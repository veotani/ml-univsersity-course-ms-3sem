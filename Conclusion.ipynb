{
  "nbformat": 4,
  "nbformat_minor": 0,
  "metadata": {
    "colab": {
      "name": "Conclusion",
      "provenance": [],
      "machine_shape": "hm",
      "authorship_tag": "ABX9TyPYkDKzV35CG97HbmCh5mb+",
      "include_colab_link": true
    },
    "kernelspec": {
      "name": "python3",
      "display_name": "Python 3"
    }
  },
  "cells": [
    {
      "cell_type": "markdown",
      "metadata": {
        "id": "view-in-github",
        "colab_type": "text"
      },
      "source": [
        "<a href=\"https://colab.research.google.com/github/veotani/ml-univsersity-course-ms-3sem/blob/master/Conclusion.ipynb\" target=\"_parent\"><img src=\"https://colab.research.google.com/assets/colab-badge.svg\" alt=\"Open In Colab\"/></a>"
      ]
    },
    {
      "cell_type": "code",
      "metadata": {
        "id": "FprLnW9gggng",
        "colab_type": "code",
        "colab": {
          "base_uri": "https://localhost:8080/",
          "height": 122
        },
        "outputId": "2ed25192-db05-49c9-e8b8-6f1f7ead4af9"
      },
      "source": [
        "from google.colab import drive\n",
        "drive.mount('/content/drive')"
      ],
      "execution_count": 1,
      "outputs": [
        {
          "output_type": "stream",
          "text": [
            "Go to this URL in a browser: https://accounts.google.com/o/oauth2/auth?client_id=947318989803-6bn6qk8qdgf4n4g3pfee6491hc0brc4i.apps.googleusercontent.com&redirect_uri=urn%3aietf%3awg%3aoauth%3a2.0%3aoob&response_type=code&scope=email%20https%3a%2f%2fwww.googleapis.com%2fauth%2fdocs.test%20https%3a%2f%2fwww.googleapis.com%2fauth%2fdrive%20https%3a%2f%2fwww.googleapis.com%2fauth%2fdrive.photos.readonly%20https%3a%2f%2fwww.googleapis.com%2fauth%2fpeopleapi.readonly\n",
            "\n",
            "Enter your authorization code:\n",
            "··········\n",
            "Mounted at /content/drive\n"
          ],
          "name": "stdout"
        }
      ]
    },
    {
      "cell_type": "code",
      "metadata": {
        "id": "XIeu3HW9giVx",
        "colab_type": "code",
        "colab": {}
      },
      "source": [
        "import pandas as pd\n",
        "import numpy as np\n",
        "import pickle\n",
        "\n",
        "from zipfile import ZipFile\n",
        "from os import listdir\n",
        "from scipy.sparse import csr_matrix, find\n",
        "from scipy.sparse.linalg import svds\n",
        "from matplotlib import pyplot\n",
        "from tqdm import tqdm_notebook\n",
        "from sklearn.neighbors import NearestNeighbors"
      ],
      "execution_count": 0,
      "outputs": []
    },
    {
      "cell_type": "code",
      "metadata": {
        "id": "Y6CD_TTQgjWd",
        "colab_type": "code",
        "colab": {}
      },
      "source": [
        "# # Считываем данные\n",
        "# INPUT_FILES_PATH = 'drive/My Drive/study-science/Интеллектуальный анализ данных/'\n",
        "\n",
        "# users =   [] # user ids   translated into row indeces (which are 1 less than id)\n",
        "# movies =  [] # movies ids translated into col indeces (which are 1 less than id)\n",
        "# ratings = [] # rating[k] = (rating that users[k] user gave to movies[k] movie)\n",
        "\n",
        "# new_user_ids = dict()\n",
        "# users_count = 0\n",
        "\n",
        "# for file_part in range(1, 5): # the training data is splited into 4 parts\n",
        "#   filename = INPUT_FILES_PATH + f'combined_data_{file_part}.txt'\n",
        "#   with open(filename) as f:\n",
        "#     for line in f:\n",
        "#       if ':' in line:\n",
        "#         current_movie = int(line.split(':')[0]) - 1\n",
        "#         continue\n",
        "#       user, rating, _ = line.split(',')\n",
        "#       if user in new_user_ids:\n",
        "#         current_user = new_user_ids[user]\n",
        "#       else:\n",
        "#         new_user_ids[user] = users_count\n",
        "#         current_user = users_count\n",
        "#         users_count += 1\n",
        "#       current_rating = int(rating)\n",
        "#       users.append(current_user)\n",
        "#       movies.append(current_movie)\n",
        "#       ratings.append(current_rating)\n",
        "\n",
        "# # Возьмём 10% датасета\n",
        "# max_user_id = ((max(users) + 1)) // 10\n",
        "# max_movie_id = ((max(movies)) + 1) // 10\n",
        "\n",
        "# users_subset = []\n",
        "# movies_subset = []\n",
        "# ratings_subset = []\n",
        "\n",
        "# for i in range(len(users)):\n",
        "#   if users[i] < max_user_id and movies[i] < max_movie_id:\n",
        "#     users_subset.append(users[i])\n",
        "#     movies_subset.append(movies[i])\n",
        "#     ratings_subset.append(ratings[i])\n",
        "\n",
        "# # Удаляем полные данные\n",
        "# del users\n",
        "# del movies\n",
        "# del ratings\n",
        "\n",
        "# # Разделяем на тестовые и тренировочные\n",
        "# test_users = [users_subset[i] for i in range(len(users_subset)) if i % 5 == 1]\n",
        "# train_users = [users_subset[i] for i in range(len(users_subset)) if i % 5 != 1]\n",
        "# del users_subset\n",
        "\n",
        "# test_movies = [movies_subset[i] for i in range(len(movies_subset)) if i % 5 == 1]\n",
        "# train_movies = [movies_subset[i] for i in range(len(movies_subset)) if i % 5 != 1]\n",
        "# del movies_subset\n",
        "\n",
        "# test_ratings = [ratings_subset[i] for i in range(len(ratings_subset)) if i % 5 == 1]\n",
        "# train_ratings = [ratings_subset[i] for i in range(len(ratings_subset)) if i % 5 != 1]\n",
        "# del ratings_subset\n",
        "\n",
        "# ratings_matrix = csr_matrix((train_ratings, (train_movies, train_users)))\n",
        "# del train_ratings\n",
        "# del train_movies\n",
        "# del train_users"
      ],
      "execution_count": 0,
      "outputs": []
    },
    {
      "cell_type": "code",
      "metadata": {
        "id": "ksU7aCk4pP33",
        "colab_type": "code",
        "colab": {}
      },
      "source": [
        "# with open(INPUT_FILES_PATH + 'bigmatrix.pickle', mode='wb+') as f:\n",
        "#   pickle.dump(ratings_matrix, f)\n",
        "# with open(INPUT_FILES_PATH + 'test_users.pickle', mode='wb+') as f:\n",
        "#   pickle.dump(test_users, f)\n",
        "# with open(INPUT_FILES_PATH + 'test_movies.pickle', mode='wb+') as f:\n",
        "#   pickle.dump(test_movies, f)\n",
        "# with open(INPUT_FILES_PATH + 'test_ratings.pickle', mode='wb+') as f:\n",
        "#   pickle.dump(test_ratings, f)"
      ],
      "execution_count": 0,
      "outputs": []
    },
    {
      "cell_type": "code",
      "metadata": {
        "id": "n4kziTkOrx62",
        "colab_type": "code",
        "colab": {}
      },
      "source": [
        "with open(INPUT_FILES_PATH + 'bigmatrix.pickle', mode='rb') as f:\n",
        "  ratings_matrix = pickle.load(f)\n",
        "with open(INPUT_FILES_PATH + 'test_users.pickle', mode='rb') as f:\n",
        "  test_users = pickle.load(f)\n",
        "with open(INPUT_FILES_PATH + 'test_movies.pickle', mode='rb') as f:\n",
        "  test_movies = pickle.load(f)\n",
        "with open(INPUT_FILES_PATH + 'test_ratings.pickle', mode='rb') as f:\n",
        "  test_ratings = pickle.load(f)"
      ],
      "execution_count": 0,
      "outputs": []
    },
    {
      "cell_type": "markdown",
      "metadata": {
        "id": "rUrl6zOjguVC",
        "colab_type": "text"
      },
      "source": [
        "# Обоснование результатов\n",
        "\n",
        "Самая маленькая погрешность достигается в результате присваивания средних рейтингов по столбцам и строкам. Среднее значение не является хорошим способом угадывания неизвестных значений для выборок с высоким среднеквадратичным отклонением. В нашем случае среднеквадратичное отклонение принимает значения на отрезке [0, 2.5]. Посмотрим на значения отклонения для двух способов:"
      ]
    },
    {
      "cell_type": "code",
      "metadata": {
        "id": "kBRFkqx7hbOP",
        "colab_type": "code",
        "outputId": "248931f8-c1ab-47e1-940b-d7def2919098",
        "colab": {
          "base_uri": "https://localhost:8080/",
          "height": 316
        }
      },
      "source": [
        "means = np.divide(ratings_matrix.sum(axis=0), (ratings_matrix!=0).astype('i8').sum(axis=0))\n",
        "disp = ratings_matrix - means\n",
        "A = ratings_matrix.toarray()\n",
        "disp = np.multiply(np.array(disp).astype('f'), (A>0).astype('f'))\n",
        "disp = np.multiply(disp, disp)\n",
        "disp = np.divide(disp, (ratings_matrix!=0).astype('i8').sum(axis=0)).sum(axis=0)\n",
        "std_div = np.sqrt(disp)\n",
        "pyplot.plot(np.sort(np.array(std_div)[0]))"
      ],
      "execution_count": 51,
      "outputs": [
        {
          "output_type": "stream",
          "text": [
            "/usr/local/lib/python3.6/dist-packages/ipykernel_launcher.py:1: RuntimeWarning: invalid value encountered in true_divide\n",
            "  \"\"\"Entry point for launching an IPython kernel.\n"
          ],
          "name": "stderr"
        },
        {
          "output_type": "execute_result",
          "data": {
            "text/plain": [
              "[<matplotlib.lines.Line2D at 0x7f2d03ae6080>]"
            ]
          },
          "metadata": {
            "tags": []
          },
          "execution_count": 51
        },
        {
          "output_type": "display_data",
          "data": {
            "image/png": "[encoded data removed]",
            "text/plain": [
              "<Figure size 432x288 with 1 Axes>"
            ]
          },
          "metadata": {
            "tags": []
          }
        }
      ]
    },
    {
      "cell_type": "code",
      "metadata": {
        "id": "JIcNmFCuxz7w",
        "colab_type": "code",
        "colab": {
          "base_uri": "https://localhost:8080/",
          "height": 282
        },
        "outputId": "fa7f341d-263b-4f36-f118-2827e71724d3"
      },
      "source": [
        "means = np.divide(ratings_matrix.sum(axis=1), (ratings_matrix!=0).astype('i8').sum(axis=1))\n",
        "disp = ratings_matrix - means\n",
        "A = ratings_matrix.toarray()\n",
        "disp = np.multiply(np.array(disp).astype('f'), (A>0).astype('f'))\n",
        "disp = np.multiply(disp, disp)\n",
        "disp = np.divide(disp, (ratings_matrix!=0).astype('i8').sum(axis=1)).sum(axis=1)\n",
        "std_div = np.sqrt(disp)\n",
        "pyplot.plot(np.sort(np.array(std_div).T[0]))"
      ],
      "execution_count": 64,
      "outputs": [
        {
          "output_type": "execute_result",
          "data": {
            "text/plain": [
              "[<matplotlib.lines.Line2D at 0x7f2d039a1b00>]"
            ]
          },
          "metadata": {
            "tags": []
          },
          "execution_count": 64
        },
        {
          "output_type": "display_data",
          "data": {
            "image/png": "[encoded data removed]",
            "text/plain": [
              "<Figure size 432x288 with 1 Axes>"
            ]
          },
          "metadata": {
            "tags": []
          }
        }
      ]
    },
    {
      "cell_type": "code",
      "metadata": {
        "id": "zwj0pPGpjb0w",
        "colab_type": "code",
        "outputId": "285e7e7f-9218-4994-f738-19dddac185e0",
        "colab": {
          "base_uri": "https://localhost:8080/",
          "height": 282
        }
      },
      "source": [
        "count_ratings = dict()\n",
        "for i in range(1, 6):\n",
        "  count_ratings[i] = np.sum((A==i).astype('i8'))\n",
        "pyplot.plot(list(count_ratings.keys()), list(count_ratings.values()))"
      ],
      "execution_count": 73,
      "outputs": [
        {
          "output_type": "execute_result",
          "data": {
            "text/plain": [
              "[<matplotlib.lines.Line2D at 0x7f2d038e8c50>]"
            ]
          },
          "metadata": {
            "tags": []
          },
          "execution_count": 73
        },
        {
          "output_type": "display_data",
          "data": {
            "image/png": "[encoded data removed]",
            "text/plain": [
              "<Figure size 432x288 with 1 Axes>"
            ]
          },
          "metadata": {
            "tags": []
          }
        }
      ]
    },
    {
      "cell_type": "code",
      "metadata": {
        "id": "hvY5lRhA0kOj",
        "colab_type": "code",
        "colab": {
          "base_uri": "https://localhost:8080/",
          "height": 282
        },
        "outputId": "cdcb6d5e-beb7-4ff7-f91e-49193cc9c7ae"
      },
      "source": [
        "pyplot.plot(list(sorted(count_ratings.values())))"
      ],
      "execution_count": 75,
      "outputs": [
        {
          "output_type": "execute_result",
          "data": {
            "text/plain": [
              "[<matplotlib.lines.Line2D at 0x7f2d038e8b00>]"
            ]
          },
          "metadata": {
            "tags": []
          },
          "execution_count": 75
        },
        {
          "output_type": "display_data",
          "data": {
            "image/png": "[encoded data removed]",
            "text/plain": [
              "<Figure size 432x288 with 1 Axes>"
            ]
          },
          "metadata": {
            "tags": []
          }
        }
      ]
    },
    {
      "cell_type": "markdown",
      "metadata": {
        "id": "EhUNMPzn0d1U",
        "colab_type": "text"
      },
      "source": [
        "Как видно из графиков, оценки не распределены равномерно. Заметно, что большинтсво оценок являются \"4\", затем \"3\" и \"5\" и только уже после них самые низкие оценки с сильным отставанием. Поэтому ставить 4-ки пустым клеткам уже будет эффективным способом:"
      ]
    },
    {
      "cell_type": "code",
      "metadata": {
        "id": "n5UF3kkA06V8",
        "colab_type": "code",
        "colab": {
          "base_uri": "https://localhost:8080/",
          "height": 34
        },
        "outputId": "1e2b483f-977e-475a-ba5d-270f6a90d6dd"
      },
      "source": [
        "A_filled_with_fours = A + (A==0).astype('i8') * 4\n",
        "error = 0\n",
        "for i in range(len(test_users)):\n",
        "  error += abs(A_filled_with_fours[test_movies[i], test_users[i]] - test_ratings[i])\n",
        "error/len(test_users)"
      ],
      "execution_count": 78,
      "outputs": [
        {
          "output_type": "execute_result",
          "data": {
            "text/plain": [
              "0.8901173843507649"
            ]
          },
          "metadata": {
            "tags": []
          },
          "execution_count": 78
        }
      ]
    },
    {
      "cell_type": "markdown",
      "metadata": {
        "id": "BamUuOCS1tf8",
        "colab_type": "text"
      },
      "source": [
        "Можно сделать вывод, что по этим данным лучше всего проставлять средние значения, так как они не имеют сильного среднеквадратичного отклонения (в обоих случаях 80% значений имеют стандартное отклонение меньше, чем в два раза меньше от максимального)."
      ]
    }
  ]
}