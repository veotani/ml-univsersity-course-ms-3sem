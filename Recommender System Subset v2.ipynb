{
  "nbformat": 4,
  "nbformat_minor": 0,
  "metadata": {
    "colab": {
      "name": "Untitled0.ipynb",
      "provenance": [],
      "collapsed_sections": [],
      "toc_visible": true,
      "authorship_tag": "ABX9TyPJSGtpe4r2A/elGq2iyybR",
      "include_colab_link": true
    },
    "kernelspec": {
      "name": "python3",
      "display_name": "Python 3"
    },
    "widgets": {
      "application/vnd.jupyter.widget-state+json": {
        "2764a7741f6a40439b940cb01867aebc": {
          "model_module": "@jupyter-widgets/controls",
          "model_name": "HBoxModel",
          "state": {
            "_view_name": "HBoxView",
            "_dom_classes": [],
            "_model_name": "HBoxModel",
            "_view_module": "@jupyter-widgets/controls",
            "_model_module_version": "1.5.0",
            "_view_count": null,
            "_view_module_version": "1.5.0",
            "box_style": "",
            "layout": "IPY_MODEL_7077b0d136a844d592f136d9bd7e8af0",
            "_model_module": "@jupyter-widgets/controls",
            "children": [
              "IPY_MODEL_78038add3d6843f1a774e11cae8e96ed",
              "IPY_MODEL_681d58aed7b74f98a5d906b12f6bf35d"
            ]
          }
        },
        "7077b0d136a844d592f136d9bd7e8af0": {
          "model_module": "@jupyter-widgets/base",
          "model_name": "LayoutModel",
          "state": {
            "_view_name": "LayoutView",
            "grid_template_rows": null,
            "right": null,
            "justify_content": null,
            "_view_module": "@jupyter-widgets/base",
            "overflow": null,
            "_model_module_version": "1.2.0",
            "_view_count": null,
            "flex_flow": null,
            "width": null,
            "min_width": null,
            "border": null,
            "align_items": null,
            "bottom": null,
            "_model_module": "@jupyter-widgets/base",
            "top": null,
            "grid_column": null,
            "overflow_y": null,
            "overflow_x": null,
            "grid_auto_flow": null,
            "grid_area": null,
            "grid_template_columns": null,
            "flex": null,
            "_model_name": "LayoutModel",
            "justify_items": null,
            "grid_row": null,
            "max_height": null,
            "align_content": null,
            "visibility": null,
            "align_self": null,
            "height": null,
            "min_height": null,
            "padding": null,
            "grid_auto_rows": null,
            "grid_gap": null,
            "max_width": null,
            "order": null,
            "_view_module_version": "1.2.0",
            "grid_template_areas": null,
            "object_position": null,
            "object_fit": null,
            "grid_auto_columns": null,
            "margin": null,
            "display": null,
            "left": null
          }
        },
        "78038add3d6843f1a774e11cae8e96ed": {
          "model_module": "@jupyter-widgets/controls",
          "model_name": "IntProgressModel",
          "state": {
            "_view_name": "ProgressView",
            "style": "IPY_MODEL_9c4d3763b3df4d32b78a65346b0af49c",
            "_dom_classes": [],
            "description": "",
            "_model_name": "IntProgressModel",
            "bar_style": "success",
            "max": 48018,
            "_view_module": "@jupyter-widgets/controls",
            "_model_module_version": "1.5.0",
            "value": 48018,
            "_view_count": null,
            "_view_module_version": "1.5.0",
            "orientation": "horizontal",
            "min": 0,
            "description_tooltip": null,
            "_model_module": "@jupyter-widgets/controls",
            "layout": "IPY_MODEL_0350b18586a845498ad66806d1f012d4"
          }
        },
        "681d58aed7b74f98a5d906b12f6bf35d": {
          "model_module": "@jupyter-widgets/controls",
          "model_name": "HTMLModel",
          "state": {
            "_view_name": "HTMLView",
            "style": "IPY_MODEL_0c549c986b7e499390fbfbcbcfef7a19",
            "_dom_classes": [],
            "description": "",
            "_model_name": "HTMLModel",
            "placeholder": "​",
            "_view_module": "@jupyter-widgets/controls",
            "_model_module_version": "1.5.0",
            "value": "100% 48018/48018 [14:35&lt;00:00, 61.20it/s]",
            "_view_count": null,
            "_view_module_version": "1.5.0",
            "description_tooltip": null,
            "_model_module": "@jupyter-widgets/controls",
            "layout": "IPY_MODEL_1e5b2a0997d74167938f14031d454662"
          }
        },
        "9c4d3763b3df4d32b78a65346b0af49c": {
          "model_module": "@jupyter-widgets/controls",
          "model_name": "ProgressStyleModel",
          "state": {
            "_view_name": "StyleView",
            "_model_name": "ProgressStyleModel",
            "description_width": "",
            "_view_module": "@jupyter-widgets/base",
            "_model_module_version": "1.5.0",
            "_view_count": null,
            "_view_module_version": "1.2.0",
            "bar_color": null,
            "_model_module": "@jupyter-widgets/controls"
          }
        },
        "0350b18586a845498ad66806d1f012d4": {
          "model_module": "@jupyter-widgets/base",
          "model_name": "LayoutModel",
          "state": {
            "_view_name": "LayoutView",
            "grid_template_rows": null,
            "right": null,
            "justify_content": null,
            "_view_module": "@jupyter-widgets/base",
            "overflow": null,
            "_model_module_version": "1.2.0",
            "_view_count": null,
            "flex_flow": null,
            "width": null,
            "min_width": null,
            "border": null,
            "align_items": null,
            "bottom": null,
            "_model_module": "@jupyter-widgets/base",
            "top": null,
            "grid_column": null,
            "overflow_y": null,
            "overflow_x": null,
            "grid_auto_flow": null,
            "grid_area": null,
            "grid_template_columns": null,
            "flex": null,
            "_model_name": "LayoutModel",
            "justify_items": null,
            "grid_row": null,
            "max_height": null,
            "align_content": null,
            "visibility": null,
            "align_self": null,
            "height": null,
            "min_height": null,
            "padding": null,
            "grid_auto_rows": null,
            "grid_gap": null,
            "max_width": null,
            "order": null,
            "_view_module_version": "1.2.0",
            "grid_template_areas": null,
            "object_position": null,
            "object_fit": null,
            "grid_auto_columns": null,
            "margin": null,
            "display": null,
            "left": null
          }
        },
        "0c549c986b7e499390fbfbcbcfef7a19": {
          "model_module": "@jupyter-widgets/controls",
          "model_name": "DescriptionStyleModel",
          "state": {
            "_view_name": "StyleView",
            "_model_name": "DescriptionStyleModel",
            "description_width": "",
            "_view_module": "@jupyter-widgets/base",
            "_model_module_version": "1.5.0",
            "_view_count": null,
            "_view_module_version": "1.2.0",
            "_model_module": "@jupyter-widgets/controls"
          }
        },
        "1e5b2a0997d74167938f14031d454662": {
          "model_module": "@jupyter-widgets/base",
          "model_name": "LayoutModel",
          "state": {
            "_view_name": "LayoutView",
            "grid_template_rows": null,
            "right": null,
            "justify_content": null,
            "_view_module": "@jupyter-widgets/base",
            "overflow": null,
            "_model_module_version": "1.2.0",
            "_view_count": null,
            "flex_flow": null,
            "width": null,
            "min_width": null,
            "border": null,
            "align_items": null,
            "bottom": null,
            "_model_module": "@jupyter-widgets/base",
            "top": null,
            "grid_column": null,
            "overflow_y": null,
            "overflow_x": null,
            "grid_auto_flow": null,
            "grid_area": null,
            "grid_template_columns": null,
            "flex": null,
            "_model_name": "LayoutModel",
            "justify_items": null,
            "grid_row": null,
            "max_height": null,
            "align_content": null,
            "visibility": null,
            "align_self": null,
            "height": null,
            "min_height": null,
            "padding": null,
            "grid_auto_rows": null,
            "grid_gap": null,
            "max_width": null,
            "order": null,
            "_view_module_version": "1.2.0",
            "grid_template_areas": null,
            "object_position": null,
            "object_fit": null,
            "grid_auto_columns": null,
            "margin": null,
            "display": null,
            "left": null
          }
        },
        "9a09fb42aaf6457aaca62453fa54f73a": {
          "model_module": "@jupyter-widgets/controls",
          "model_name": "HBoxModel",
          "state": {
            "_view_name": "HBoxView",
            "_dom_classes": [],
            "_model_name": "HBoxModel",
            "_view_module": "@jupyter-widgets/controls",
            "_model_module_version": "1.5.0",
            "_view_count": null,
            "_view_module_version": "1.5.0",
            "box_style": "",
            "layout": "IPY_MODEL_a4e0a46c85504c85a9958535aac23e41",
            "_model_module": "@jupyter-widgets/controls",
            "children": [
              "IPY_MODEL_f16e3d92acc7437484392f96ed306040",
              "IPY_MODEL_699802fec29147ffb837b5b8a2538d04"
            ]
          }
        },
        "a4e0a46c85504c85a9958535aac23e41": {
          "model_module": "@jupyter-widgets/base",
          "model_name": "LayoutModel",
          "state": {
            "_view_name": "LayoutView",
            "grid_template_rows": null,
            "right": null,
            "justify_content": null,
            "_view_module": "@jupyter-widgets/base",
            "overflow": null,
            "_model_module_version": "1.2.0",
            "_view_count": null,
            "flex_flow": null,
            "width": null,
            "min_width": null,
            "border": null,
            "align_items": null,
            "bottom": null,
            "_model_module": "@jupyter-widgets/base",
            "top": null,
            "grid_column": null,
            "overflow_y": null,
            "overflow_x": null,
            "grid_auto_flow": null,
            "grid_area": null,
            "grid_template_columns": null,
            "flex": null,
            "_model_name": "LayoutModel",
            "justify_items": null,
            "grid_row": null,
            "max_height": null,
            "align_content": null,
            "visibility": null,
            "align_self": null,
            "height": null,
            "min_height": null,
            "padding": null,
            "grid_auto_rows": null,
            "grid_gap": null,
            "max_width": null,
            "order": null,
            "_view_module_version": "1.2.0",
            "grid_template_areas": null,
            "object_position": null,
            "object_fit": null,
            "grid_auto_columns": null,
            "margin": null,
            "display": null,
            "left": null
          }
        },
        "f16e3d92acc7437484392f96ed306040": {
          "model_module": "@jupyter-widgets/controls",
          "model_name": "IntProgressModel",
          "state": {
            "_view_name": "ProgressView",
            "style": "IPY_MODEL_ac7d0bdd41894dbbb653588832b1b08c",
            "_dom_classes": [],
            "description": "",
            "_model_name": "IntProgressModel",
            "bar_style": "success",
            "max": 497085,
            "_view_module": "@jupyter-widgets/controls",
            "_model_module_version": "1.5.0",
            "value": 497085,
            "_view_count": null,
            "_view_module_version": "1.5.0",
            "orientation": "horizontal",
            "min": 0,
            "description_tooltip": null,
            "_model_module": "@jupyter-widgets/controls",
            "layout": "IPY_MODEL_b3469fce8b4c43e5aacd1135c40740ed"
          }
        },
        "699802fec29147ffb837b5b8a2538d04": {
          "model_module": "@jupyter-widgets/controls",
          "model_name": "HTMLModel",
          "state": {
            "_view_name": "HTMLView",
            "style": "IPY_MODEL_6619cf8bb79743f68ae6d9eedbcd192e",
            "_dom_classes": [],
            "description": "",
            "_model_name": "HTMLModel",
            "placeholder": "​",
            "_view_module": "@jupyter-widgets/controls",
            "_model_module_version": "1.5.0",
            "value": "100% 497085/497085 [01:50&lt;00:00, 4515.95it/s]",
            "_view_count": null,
            "_view_module_version": "1.5.0",
            "description_tooltip": null,
            "_model_module": "@jupyter-widgets/controls",
            "layout": "IPY_MODEL_ffea3238e9434028853f1a9366ac7bc7"
          }
        },
        "ac7d0bdd41894dbbb653588832b1b08c": {
          "model_module": "@jupyter-widgets/controls",
          "model_name": "ProgressStyleModel",
          "state": {
            "_view_name": "StyleView",
            "_model_name": "ProgressStyleModel",
            "description_width": "",
            "_view_module": "@jupyter-widgets/base",
            "_model_module_version": "1.5.0",
            "_view_count": null,
            "_view_module_version": "1.2.0",
            "bar_color": null,
            "_model_module": "@jupyter-widgets/controls"
          }
        },
        "b3469fce8b4c43e5aacd1135c40740ed": {
          "model_module": "@jupyter-widgets/base",
          "model_name": "LayoutModel",
          "state": {
            "_view_name": "LayoutView",
            "grid_template_rows": null,
            "right": null,
            "justify_content": null,
            "_view_module": "@jupyter-widgets/base",
            "overflow": null,
            "_model_module_version": "1.2.0",
            "_view_count": null,
            "flex_flow": null,
            "width": null,
            "min_width": null,
            "border": null,
            "align_items": null,
            "bottom": null,
            "_model_module": "@jupyter-widgets/base",
            "top": null,
            "grid_column": null,
            "overflow_y": null,
            "overflow_x": null,
            "grid_auto_flow": null,
            "grid_area": null,
            "grid_template_columns": null,
            "flex": null,
            "_model_name": "LayoutModel",
            "justify_items": null,
            "grid_row": null,
            "max_height": null,
            "align_content": null,
            "visibility": null,
            "align_self": null,
            "height": null,
            "min_height": null,
            "padding": null,
            "grid_auto_rows": null,
            "grid_gap": null,
            "max_width": null,
            "order": null,
            "_view_module_version": "1.2.0",
            "grid_template_areas": null,
            "object_position": null,
            "object_fit": null,
            "grid_auto_columns": null,
            "margin": null,
            "display": null,
            "left": null
          }
        },
        "6619cf8bb79743f68ae6d9eedbcd192e": {
          "model_module": "@jupyter-widgets/controls",
          "model_name": "DescriptionStyleModel",
          "state": {
            "_view_name": "StyleView",
            "_model_name": "DescriptionStyleModel",
            "description_width": "",
            "_view_module": "@jupyter-widgets/base",
            "_model_module_version": "1.5.0",
            "_view_count": null,
            "_view_module_version": "1.2.0",
            "_model_module": "@jupyter-widgets/controls"
          }
        },
        "ffea3238e9434028853f1a9366ac7bc7": {
          "model_module": "@jupyter-widgets/base",
          "model_name": "LayoutModel",
          "state": {
            "_view_name": "LayoutView",
            "grid_template_rows": null,
            "right": null,
            "justify_content": null,
            "_view_module": "@jupyter-widgets/base",
            "overflow": null,
            "_model_module_version": "1.2.0",
            "_view_count": null,
            "flex_flow": null,
            "width": null,
            "min_width": null,
            "border": null,
            "align_items": null,
            "bottom": null,
            "_model_module": "@jupyter-widgets/base",
            "top": null,
            "grid_column": null,
            "overflow_y": null,
            "overflow_x": null,
            "grid_auto_flow": null,
            "grid_area": null,
            "grid_template_columns": null,
            "flex": null,
            "_model_name": "LayoutModel",
            "justify_items": null,
            "grid_row": null,
            "max_height": null,
            "align_content": null,
            "visibility": null,
            "align_self": null,
            "height": null,
            "min_height": null,
            "padding": null,
            "grid_auto_rows": null,
            "grid_gap": null,
            "max_width": null,
            "order": null,
            "_view_module_version": "1.2.0",
            "grid_template_areas": null,
            "object_position": null,
            "object_fit": null,
            "grid_auto_columns": null,
            "margin": null,
            "display": null,
            "left": null
          }
        }
      }
    }
  },
  "cells": [
    {
      "cell_type": "markdown",
      "metadata": {
        "id": "view-in-github",
        "colab_type": "text"
      },
      "source": [
        "<a href=\"https://colab.research.google.com/github/veotani/ml-univsersity-course-ms-3sem/blob/master/Recommender%20System%20Subset%20v2.ipynb\" target=\"_parent\"><img src=\"https://colab.research.google.com/assets/colab-badge.svg\" alt=\"Open In Colab\"/></a>"
      ]
    },
    {
      "cell_type": "code",
      "metadata": {
        "id": "kdET_RLQGIpw",
        "colab_type": "code",
        "colab": {
          "base_uri": "https://localhost:8080/",
          "height": 34
        },
        "outputId": "6c3ee005-62a5-4b4c-8419-5ac890fbb53e"
      },
      "source": [
        "from google.colab import drive\n",
        "drive.mount('/content/drive')"
      ],
      "execution_count": 53,
      "outputs": [
        {
          "output_type": "stream",
          "text": [
            "Drive already mounted at /content/drive; to attempt to forcibly remount, call drive.mount(\"/content/drive\", force_remount=True).\n"
          ],
          "name": "stdout"
        }
      ]
    },
    {
      "cell_type": "code",
      "metadata": {
        "id": "fdbUa4Mjlia2",
        "colab_type": "code",
        "colab": {}
      },
      "source": [
        "import pandas as pd\n",
        "import numpy as np\n",
        "\n",
        "from zipfile import ZipFile\n",
        "from os import listdir\n",
        "from scipy.sparse import csr_matrix, find\n",
        "from scipy.sparse.linalg import svds\n",
        "from matplotlib import pyplot\n",
        "from tqdm import tqdm_notebook\n",
        "from sklearn.neighbors import NearestNeighbors"
      ],
      "execution_count": 0,
      "outputs": []
    },
    {
      "cell_type": "markdown",
      "metadata": {
        "id": "ywiwbDsKmqJk",
        "colab_type": "text"
      },
      "source": [
        "# Считывание и обработка входных данных"
      ]
    },
    {
      "cell_type": "code",
      "metadata": {
        "id": "dCjoEPNilrRp",
        "colab_type": "code",
        "colab": {}
      },
      "source": [
        "# Считываем данные\n",
        "INPUT_FILES_PATH = 'drive/My Drive/study-science/Интеллектуальный анализ данных/'\n",
        "\n",
        "users =   [] # user ids   translated into row indeces (which are 1 less than id)\n",
        "movies =  [] # movies ids translated into col indeces (which are 1 less than id)\n",
        "ratings = [] # rating[k] = (rating that users[k] user gave to movies[k] movie)\n",
        "\n",
        "new_user_ids = dict()\n",
        "users_count = 0\n",
        "\n",
        "for file_part in range(1, 5): # the training data is splited into 4 parts\n",
        "  filename = INPUT_FILES_PATH + f'combined_data_{file_part}.txt'\n",
        "  with open(filename) as f:\n",
        "    for line in f:\n",
        "      if ':' in line:\n",
        "        current_movie = int(line.split(':')[0]) - 1\n",
        "        continue\n",
        "      user, rating, _ = line.split(',')\n",
        "      if user in new_user_ids:\n",
        "        current_user = new_user_ids[user]\n",
        "      else:\n",
        "        new_user_ids[user] = users_count\n",
        "        current_user = users_count\n",
        "        users_count += 1\n",
        "      current_rating = int(rating)\n",
        "      users.append(current_user)\n",
        "      movies.append(current_movie)\n",
        "      ratings.append(current_rating)\n",
        "\n",
        "# Возьмём 10% датасета\n",
        "max_user_id = ((max(users) + 1)) // 10\n",
        "max_movie_id = ((max(movies)) + 1) // 10\n",
        "\n",
        "users_subset = []\n",
        "movies_subset = []\n",
        "ratings_subset = []\n",
        "\n",
        "for i in range(len(users)):\n",
        "  if users[i] < max_user_id and movies[i] < max_movie_id:\n",
        "    users_subset.append(users[i])\n",
        "    movies_subset.append(movies[i])\n",
        "    ratings_subset.append(ratings[i])\n",
        "\n",
        "# Удаляем полные данные\n",
        "del users\n",
        "del movies\n",
        "del ratings\n",
        "\n",
        "# Разделяем на тестовые и тренировочные\n",
        "test_users = [users_subset[i] for i in range(len(users_subset)) if i % 5 == 1]\n",
        "train_users = [users_subset[i] for i in range(len(users_subset)) if i % 5 != 1]\n",
        "del users_subset\n",
        "\n",
        "test_movies = [movies_subset[i] for i in range(len(movies_subset)) if i % 5 == 1]\n",
        "train_movies = [movies_subset[i] for i in range(len(movies_subset)) if i % 5 != 1]\n",
        "del movies_subset\n",
        "\n",
        "test_ratings = [ratings_subset[i] for i in range(len(ratings_subset)) if i % 5 == 1]\n",
        "train_ratings = [ratings_subset[i] for i in range(len(ratings_subset)) if i % 5 != 1]\n",
        "del ratings_subset\n",
        "\n",
        "ratings_matrix = csr_matrix((train_ratings, (train_movies, train_users)))"
      ],
      "execution_count": 0,
      "outputs": []
    },
    {
      "cell_type": "markdown",
      "metadata": {
        "id": "tVPt_ovMv_zZ",
        "colab_type": "text"
      },
      "source": [
        "# Дополнительные исходные матрицы"
      ]
    },
    {
      "cell_type": "markdown",
      "metadata": {
        "id": "p-mikdC7wDma",
        "colab_type": "text"
      },
      "source": [
        "Матрица, в которой каждому нулю в матрице присваивается среднее значение всех ненулевых значений в этом **столбце**\n",
        "\n",
        "Иначе говоря, предполагаем, что пользователи, которые ещё не оценили фильм, оценят его на среднюю оценку, которую этот фильм получил."
      ]
    },
    {
      "cell_type": "code",
      "metadata": {
        "id": "cIsJGlQdwSUA",
        "colab_type": "code",
        "colab": {}
      },
      "source": [
        "ratings_matrix_col_mean = np.zeros(ratings_matrix.shape)\n",
        "\n",
        "for i in tqdm_notebook(range(ratings_matrix.shape[0])):\n",
        "  col_mean = np.mean(find(ratings_matrix[i, :])[2])\n",
        "  ratings_matrix_col_mean[i, :] = col_mean\n",
        "  for j in find(ratings_matrix[i, :])[1]:\n",
        "    ratings_matrix_col_mean[i, j] = ratings_matrix[i, j]"
      ],
      "execution_count": 0,
      "outputs": []
    },
    {
      "cell_type": "markdown",
      "metadata": {
        "id": "IJvAziQUzmVI",
        "colab_type": "text"
      },
      "source": [
        "Матрица, в которой каждому нулю в матрице присваивается среднее значение всех ненулевых значений в этой **строке**\n",
        "\n",
        "Иначе говоря, предполагаем, что пользователи, которые ещё не оценили фильм, оценят его на среднюю оценку по всем поставленным этим пользователем оценкам."
      ]
    },
    {
      "cell_type": "code",
      "metadata": {
        "id": "toLG30K-zvEr",
        "colab_type": "code",
        "outputId": "1d42a981-2e9a-4cc3-87d2-07b19eef30a3",
        "colab": {
          "base_uri": "https://localhost:8080/",
          "height": 49,
          "referenced_widgets": [
            "2764a7741f6a40439b940cb01867aebc",
            "7077b0d136a844d592f136d9bd7e8af0",
            "78038add3d6843f1a774e11cae8e96ed",
            "681d58aed7b74f98a5d906b12f6bf35d",
            "9c4d3763b3df4d32b78a65346b0af49c",
            "0350b18586a845498ad66806d1f012d4",
            "0c549c986b7e499390fbfbcbcfef7a19",
            "1e5b2a0997d74167938f14031d454662"
          ]
        }
      },
      "source": [
        "ratings_matrix_row_mean = np.zeros(ratings_matrix.shape)\n",
        "\n",
        "for i in tqdm_notebook(range(ratings_matrix.shape[1])):\n",
        "  non_zero_ratings = find(ratings_matrix[:, i])[2]\n",
        "  if len(non_zero_ratings) > 0:\n",
        "    row_mean = np.mean(find(ratings_matrix[:, i])[2])\n",
        "  else:\n",
        "    row_mean = 0\n",
        "  ratings_matrix_row_mean[:, i] = row_mean\n",
        "  for j in find(ratings_matrix[:, i])[0]:\n",
        "    ratings_matrix_row_mean[j, i] = ratings_matrix[j, i]"
      ],
      "execution_count": 89,
      "outputs": [
        {
          "output_type": "display_data",
          "data": {
            "application/vnd.jupyter.widget-view+json": {
              "model_id": "2764a7741f6a40439b940cb01867aebc",
              "version_minor": 0,
              "version_major": 2
            },
            "text/plain": [
              "HBox(children=(IntProgress(value=0, max=48018), HTML(value='')))"
            ]
          },
          "metadata": {
            "tags": []
          }
        }
      ]
    },
    {
      "cell_type": "markdown",
      "metadata": {
        "id": "MQ3rhcbem3__",
        "colab_type": "text"
      },
      "source": [
        "# Вариант 1: разложение матрицы при помощи готового SVD\n"
      ]
    },
    {
      "cell_type": "markdown",
      "metadata": {
        "id": "nYj2eEc4sx-5",
        "colab_type": "text"
      },
      "source": [
        "Старый метод"
      ]
    },
    {
      "cell_type": "code",
      "metadata": {
        "id": "P1WZKH9ynBs_",
        "colab_type": "code",
        "outputId": "da7b5627-b047-442f-8707-ce6100524d46",
        "colab": {
          "base_uri": "https://localhost:8080/",
          "height": 34
        }
      },
      "source": [
        "def fill_user_rating_table(ratings_matrix, k):\n",
        "  U, sigma, Vt = svds(ratings_matrix.astype('f'), k=k)\n",
        "  sigma = np.diag(sigma)\n",
        "  return np.dot(np.dot(U, sigma), Vt)\n",
        "\n",
        "def compute_err_svd(ratings_matrix):\n",
        "  errors = []\n",
        "  for i in range(len(test_movies)):\n",
        "    errors.append(abs(test_ratings[i] - int(round(ratings_matrix[test_movies[i], test_users[i]], 0))))\n",
        "  return sum(errors)/len(errors)\n",
        "\n",
        "A = fill_user_rating_table(ratings_matrix, 20)\n",
        "compute_err_svd(A)"
      ],
      "execution_count": 0,
      "outputs": [
        {
          "output_type": "execute_result",
          "data": {
            "text/plain": [
              "2.5693694237404068"
            ]
          },
          "metadata": {
            "tags": []
          },
          "execution_count": 141
        }
      ]
    },
    {
      "cell_type": "code",
      "metadata": {
        "id": "iBgr9IRerjvh",
        "colab_type": "code",
        "outputId": "a5c49a80-2458-4935-8d39-bd4615c71eeb",
        "colab": {
          "base_uri": "https://localhost:8080/",
          "height": 81
        }
      },
      "source": [
        "pyplot.imshow(ratings_matrix.toarray())"
      ],
      "execution_count": 0,
      "outputs": [
        {
          "output_type": "execute_result",
          "data": {
            "text/plain": [
              "<matplotlib.image.AxesImage at 0x7f86b35835c0>"
            ]
          },
          "metadata": {
            "tags": []
          },
          "execution_count": 142
        },
        {
          "output_type": "display_data",
          "data": {
            "image/png": "[encoded data removed]",
            "text/plain": [
              "<Figure size 432x288 with 1 Axes>"
            ]
          },
          "metadata": {
            "tags": []
          }
        }
      ]
    },
    {
      "cell_type": "code",
      "metadata": {
        "id": "rIJglK6RqZEt",
        "colab_type": "code",
        "outputId": "4dd6ed2f-3e1b-4433-92e8-a1359860ad92",
        "colab": {
          "base_uri": "https://localhost:8080/",
          "height": 81
        }
      },
      "source": [
        "pyplot.imshow(A)"
      ],
      "execution_count": 0,
      "outputs": [
        {
          "output_type": "execute_result",
          "data": {
            "text/plain": [
              "<matplotlib.image.AxesImage at 0x7f86b3550240>"
            ]
          },
          "metadata": {
            "tags": []
          },
          "execution_count": 143
        },
        {
          "output_type": "display_data",
          "data": {
            "image/png": "[encoded data removed]",
            "text/plain": [
              "<Figure size 432x288 with 1 Axes>"
            ]
          },
          "metadata": {
            "tags": []
          }
        }
      ]
    },
    {
      "cell_type": "markdown",
      "metadata": {
        "id": "upPQUOR_u4aP",
        "colab_type": "text"
      },
      "source": [
        "На больших данных заметно, что ошибка высока. В обученной матрице все значения очень близки к нулю. Это связано с тем, что в исходной матрице всего 2% ненулевых значений, то есть вес нуля очень высок и все значения сильно устремились к нему. \n",
        "\n",
        "На картинках выше выведены точки в матрицах ratings_matrix (исходные тренировочные данные) и A (обученная матрица).\n",
        "\n",
        "Именно поэтому обязательно следует исправить исходную матрицу и дозаполнить её."
      ]
    },
    {
      "cell_type": "markdown",
      "metadata": {
        "id": "zinUOVzUvoq3",
        "colab_type": "text"
      },
      "source": [
        "# Вариант 1.1: присваивание среднего значения оценок, поставленных пользователем, всем неоценённым фильмам"
      ]
    },
    {
      "cell_type": "code",
      "metadata": {
        "id": "cfRexYiLurZV",
        "colab_type": "code",
        "colab": {}
      },
      "source": [
        "def fill_user_rating_table(A, k):\n",
        "  U, sigma, Vt = svds(A, k=k)\n",
        "  sigma = np.diag(sigma)\n",
        "  return np.dot(np.dot(U, sigma), Vt)\n",
        "\n",
        "def compute_err_svd(A):\n",
        "  errors = []\n",
        "  for i in range(len(test_movies)):\n",
        "    errors.append(abs(test_ratings[i] - int(round(A[test_movies[i], test_users[i]], 0))))\n",
        "  return sum(errors)/len(errors)\n",
        "\n",
        "# errors_row_mean = dict()\n",
        "# for i in range(10):\n",
        "#   A = fill_user_rating_table(ratings_matrix_row_mean, (i+1)*20)\n",
        "#   errors_row_mean[(i+1)*20] = compute_err_svd(A)\n",
        "A = fill_user_rating_table(ratings_matrix_row_mean, 15)\n",
        "error_svd_user_mean = compute_err_svd(A)"
      ],
      "execution_count": 0,
      "outputs": []
    },
    {
      "cell_type": "code",
      "metadata": {
        "id": "-4Cryk8A7HUC",
        "colab_type": "code",
        "outputId": "f783afb4-6fbb-406a-d1a4-77bded4987eb",
        "colab": {
          "base_uri": "https://localhost:8080/",
          "height": 282
        }
      },
      "source": [
        "pyplot.plot(list(errors_row_mean.keys()), list(errors_row_mean.values()))"
      ],
      "execution_count": 0,
      "outputs": [
        {
          "output_type": "execute_result",
          "data": {
            "text/plain": [
              "[<matplotlib.lines.Line2D at 0x7f86b34bb860>]"
            ]
          },
          "metadata": {
            "tags": []
          },
          "execution_count": 153
        },
        {
          "output_type": "display_data",
          "data": {
            "image/png": "[encoded data removed]",
            "text/plain": [
              "<Figure size 432x288 with 1 Axes>"
            ]
          },
          "metadata": {
            "tags": []
          }
        }
      ]
    },
    {
      "cell_type": "markdown",
      "metadata": {
        "id": "YWS0UGL-1lIP",
        "colab_type": "text"
      },
      "source": [
        "# Вариант 1.2: присваивание среднего значения оценок, поставленных фильму, всем фильмам, которые пользователь не оценил"
      ]
    },
    {
      "cell_type": "code",
      "metadata": {
        "id": "NAOEMVFI1yPE",
        "colab_type": "code",
        "colab": {}
      },
      "source": [
        "def fill_user_rating_table(ratings_matrix, k):\n",
        "  U, sigma, Vt = svds(ratings_matrix.astype('f'), k=k)\n",
        "  sigma = np.diag(sigma)\n",
        "  return np.dot(np.dot(U, sigma), Vt)\n",
        "\n",
        "def compute_err_svd(ratings_matrix):\n",
        "  errors = []\n",
        "  for i in range(len(test_movies)):\n",
        "    errors.append(abs(test_ratings[i] - int(round(ratings_matrix[test_movies[i], test_users[i]], 0))))\n",
        "  return sum(errors)/len(errors)\n",
        "\n",
        "errors_col_mean = dict()\n",
        "for i in range(10):\n",
        "  A = fill_user_rating_table(ratings_matrix_col_mean, k=(i+1)*20)\n",
        "  errors_col_mean[(i+1)*20] = compute_err_svd(A)"
      ],
      "execution_count": 0,
      "outputs": []
    },
    {
      "cell_type": "code",
      "metadata": {
        "id": "iTm3KEgS4gTD",
        "colab_type": "code",
        "outputId": "084c98b5-8384-4048-d724-f3d25df60585",
        "colab": {
          "base_uri": "https://localhost:8080/",
          "height": 293
        }
      },
      "source": [
        "pyplot.plot(list(errors_col_mean.keys()), list(errors_col_mean.values()))"
      ],
      "execution_count": 0,
      "outputs": [
        {
          "output_type": "execute_result",
          "data": {
            "text/plain": [
              "[<matplotlib.lines.Line2D at 0x7f86be18b5f8>]"
            ]
          },
          "metadata": {
            "tags": []
          },
          "execution_count": 137
        },
        {
          "output_type": "display_data",
          "data": {
            "image/png": "[encoded data removed]",
            "text/plain": [
              "<Figure size 432x288 with 1 Axes>"
            ]
          },
          "metadata": {
            "tags": []
          }
        }
      ]
    },
    {
      "cell_type": "code",
      "metadata": {
        "id": "1QqtQTnT69FH",
        "colab_type": "code",
        "outputId": "37fecc90-7513-4947-dcec-ecb45f7ef883",
        "colab": {
          "base_uri": "https://localhost:8080/",
          "height": 34
        }
      },
      "source": [
        "errors_col_mean[20], errors_col_mean[120]"
      ],
      "execution_count": 0,
      "outputs": [
        {
          "output_type": "execute_result",
          "data": {
            "text/plain": [
              "(0.7720530693945703, 0.7720530693945703)"
            ]
          },
          "metadata": {
            "tags": []
          },
          "execution_count": 140
        }
      ]
    },
    {
      "cell_type": "markdown",
      "metadata": {
        "id": "kdGP0BNUx-6y",
        "colab_type": "text"
      },
      "source": [
        "# Вариант 2: KNN item-based"
      ]
    },
    {
      "cell_type": "code",
      "metadata": {
        "id": "oGkpdTFYx9h_",
        "colab_type": "code",
        "colab": {}
      },
      "source": [
        "knn_item = NearestNeighbors(n_neighbors=20, metric='cosine', algorithm='brute', n_jobs=-1)\n",
        "item_based_knn = knn_item.fit(ratings_matrix)"
      ],
      "execution_count": 0,
      "outputs": []
    },
    {
      "cell_type": "code",
      "metadata": {
        "id": "SmvwoYexyXnU",
        "colab_type": "code",
        "colab": {}
      },
      "source": [
        "results = item_based_knn.kneighbors(ratings_matrix[[x for x in set(test_movies)], :])"
      ],
      "execution_count": 0,
      "outputs": []
    },
    {
      "cell_type": "code",
      "metadata": {
        "id": "PLB19gXtBg-o",
        "colab_type": "code",
        "outputId": "49723dbc-aff6-4c1e-9a33-9b4a4a734b2c",
        "colab": {
          "base_uri": "https://localhost:8080/",
          "height": 66,
          "referenced_widgets": [
            "9a09fb42aaf6457aaca62453fa54f73a",
            "a4e0a46c85504c85a9958535aac23e41",
            "f16e3d92acc7437484392f96ed306040",
            "699802fec29147ffb837b5b8a2538d04",
            "ac7d0bdd41894dbbb653588832b1b08c",
            "b3469fce8b4c43e5aacd1135c40740ed",
            "6619cf8bb79743f68ae6d9eedbcd192e",
            "ffea3238e9434028853f1a9366ac7bc7"
          ]
        }
      },
      "source": [
        "knn = NearestNeighbors(n_neighbors=20, metric='cosine', algorithm='brute', n_jobs=-1)\n",
        "\n",
        "def train_knn(matrix):\n",
        "  return knn.fit(matrix)\n",
        "\n",
        "def test_knn_ib(item_based_knn):\n",
        "  movies_set = set(test_movies)\n",
        "  movie_indeces = dict()\n",
        "  current_movie_index = 0\n",
        "  for movie_id in movies_set:\n",
        "    movie_indeces[movie_id] = current_movie_index\n",
        "    current_movie_index+=1\n",
        "  \n",
        "  knn_res = item_based_knn.kneighbors(ratings_matrix[[x for x in movies_set], :])\n",
        "\n",
        "  errors = []\n",
        "  count_not_predicted_values = 0\n",
        "  for i in tqdm_notebook(range(len(test_users))):\n",
        "    count_not_predicted_values += 1\n",
        "    errors.append(abs(test_ratings[i]))\n",
        "    for j in knn_res[1][movie_indeces[test_movies[i]]]:\n",
        "      if ratings_matrix[j, test_users[i]] != 0:\n",
        "        errors[-1] = abs(test_ratings[i] - ratings_matrix[j, test_users[i]])\n",
        "        count_not_predicted_values -= 1\n",
        "        break\n",
        "  return np.mean(errors), count_not_predicted_values\n",
        "\n",
        "item_based_knn = train_knn(ratings_matrix)\n",
        "error_item_based_knn, _ = test_knn_ib(item_based_knn)\n",
        "error_item_based_knn"
      ],
      "execution_count": 88,
      "outputs": [
        {
          "output_type": "display_data",
          "data": {
            "application/vnd.jupyter.widget-view+json": {
              "model_id": "9a09fb42aaf6457aaca62453fa54f73a",
              "version_minor": 0,
              "version_major": 2
            },
            "text/plain": [
              "HBox(children=(IntProgress(value=0, max=497085), HTML(value='')))"
            ]
          },
          "metadata": {
            "tags": []
          }
        },
        {
          "output_type": "execute_result",
          "data": {
            "text/plain": [
              "0.9482321936892081"
            ]
          },
          "metadata": {
            "tags": []
          },
          "execution_count": 88
        }
      ]
    },
    {
      "cell_type": "markdown",
      "metadata": {
        "id": "b13iV_r4QU-C",
        "colab_type": "text"
      },
      "source": [
        "В результате нового эксперимента с большим датасетом нашёлся способ работы с большими данными без больших временных затрат. Метод был опробован на большом и более честном, репрезентативном датасете. Ошибка осталась примерно на том же уровне (0.95), хотя и появились значения, для которых нельзя сделать предсказания (19971)."
      ]
    },
    {
      "cell_type": "markdown",
      "metadata": {
        "id": "E7Y8ZlewSSNL",
        "colab_type": "text"
      },
      "source": [
        "# Вариант 2.1: KNN Item based with weighted nearest neighbours"
      ]
    },
    {
      "cell_type": "code",
      "metadata": {
        "id": "AG55jWo1StbH",
        "colab_type": "code",
        "colab": {}
      },
      "source": [
        "knn = NearestNeighbors(n_neighbors=20, metric='cosine', algorithm='brute', n_jobs=-1)\n",
        "\n",
        "def train_knn(matrix):\n",
        "  return knn.fit(matrix)\n",
        "\n",
        "def predict_for_one(user_id, movie_id, closest_movies_ids, distances_array):\n",
        "  weights = []\n",
        "  ratings = []\n",
        "\n",
        "  for i in range(len(closest_movies_ids)):\n",
        "    rating = ratings_matrix[closest_movies_ids[i], user_id]\n",
        "    if rating == 0:\n",
        "      continue\n",
        "    ratings.append(rating)\n",
        "    if distances_array[i] == 0:\n",
        "      weights.append(np.inf)\n",
        "    else:\n",
        "      weights.append(1/distances_array[i])\n",
        "  if len(weights) == 0:\n",
        "    return 0\n",
        "  return int(round(sum(np.array(weights) * np.array(ratings)) / sum(weights), 0))\n",
        "      \n",
        "\n",
        "\n",
        "def predict_for_many(item_based_knn, user_ids, movie_ids):\n",
        "  movie_ids_set = set(movie_ids)\n",
        "  movie_numbers = {x: i for i, x in enumerate(set(test_movies))}\n",
        "\n",
        "  distances, closest_neighbours = item_based_knn.kneighbors(\n",
        "    ratings_matrix[[x for x in movie_ids_set], :]\n",
        "  )\n",
        "\n",
        "  predicted_ratings = []\n",
        "  for i in range(len(user_ids)):\n",
        "    user_id = user_ids[i]\n",
        "    movie_id = movie_ids[i]\n",
        "    closest_movies_ids = closest_neighbours[movie_numbers[movie_ids[i]]]\n",
        "    distances_array = distances[movie_numbers[movie_ids[i]]]\n",
        "    predicted_rating = predict_for_one(\n",
        "      user_id, \n",
        "      movie_id, \n",
        "      closest_movies_ids, \n",
        "      distances_array\n",
        "    )\n",
        "    predicted_ratings.append(predicted_rating)\n",
        "  return predicted_ratings\n",
        "\n",
        "item_based_knn = train_knn(ratings_matrix)\n",
        "predicted_ratings_item_based_weighted = predict_for_many(item_based_knn, test_users, test_movies)"
      ],
      "execution_count": 0,
      "outputs": []
    },
    {
      "cell_type": "code",
      "metadata": {
        "id": "gci5uocM7nT4",
        "colab_type": "code",
        "colab": {
          "base_uri": "https://localhost:8080/",
          "height": 34
        },
        "outputId": "a188d154-9800-4119-ac62-79e56249310d"
      },
      "source": [
        "error_item_based_weighted = np.mean(np.abs(np.array(predicted_ratings_item_based_weighted) - np.array(test_ratings)))\n",
        "error_item_based_weighted"
      ],
      "execution_count": 94,
      "outputs": [
        {
          "output_type": "execute_result",
          "data": {
            "text/plain": [
              "0.8171902189766338"
            ]
          },
          "metadata": {
            "tags": []
          },
          "execution_count": 94
        }
      ]
    },
    {
      "cell_type": "markdown",
      "metadata": {
        "id": "2dZ3AbuwYclV",
        "colab_type": "text"
      },
      "source": [
        "# Вариант 3: KNN User based"
      ]
    },
    {
      "cell_type": "code",
      "metadata": {
        "id": "7cYbeJvIYhmr",
        "colab_type": "code",
        "colab": {}
      },
      "source": [
        "def train_knn(matrix):\n",
        "  return knn.fit(matrix)\n",
        "\n",
        "user_based_knn = train_knn(ratings_matrix.T)\n",
        "\n",
        "def predict_for_one(user_id, movie_id, closest_users_ids):\n",
        "  ratings = []\n",
        "\n",
        "  for i in range(len(closest_users_ids)):\n",
        "    rating = ratings_matrix[movie_id, closest_users_ids[i]]\n",
        "    if rating == 0:\n",
        "      continue\n",
        "    else:\n",
        "      return rating\n",
        "  return 0\n",
        "\n",
        "\n",
        "def predict_for_many(user_based_knn, user_ids, movie_ids):\n",
        "  user_ids_set = set(user_ids)\n",
        "  user_numbers = {x: i for i, x in enumerate(set(test_users))}\n",
        "\n",
        "  _, closest_neighbours = user_based_knn.kneighbors(\n",
        "    ratings_matrix[:, [x for x in user_ids_set]].T\n",
        "  )\n",
        "\n",
        "  predicted_ratings = []\n",
        "  for i in range(len(movie_ids)):\n",
        "    user_id = user_ids[i]\n",
        "    movie_id = movie_ids[i]\n",
        "    closest_users_ids = closest_neighbours[user_numbers[user_ids[i]]]\n",
        "    predicted_rating = predict_for_one(\n",
        "      user_id, \n",
        "      movie_id, \n",
        "      closest_users_ids\n",
        "    )\n",
        "    predicted_ratings.append(predicted_rating)\n",
        "  return predicted_ratings\n",
        "\n",
        "user_based_knn = train_knn(ratings_matrix.T)\n",
        "predicted_ratings_user_based = predict_for_many(user_based_knn, test_users, test_movies)"
      ],
      "execution_count": 0,
      "outputs": []
    },
    {
      "cell_type": "code",
      "metadata": {
        "id": "Z7ZCmqUbZDaH",
        "colab_type": "code",
        "colab": {
          "base_uri": "https://localhost:8080/",
          "height": 34
        },
        "outputId": "c00635e1-227b-4688-b85c-3ad40c751671"
      },
      "source": [
        "error_ratings_user_based = np.mean(np.abs(np.array(predicted_ratings_user_based) - np.array(test_ratings)))\n",
        "error_ratings_user_based"
      ],
      "execution_count": 87,
      "outputs": [
        {
          "output_type": "execute_result",
          "data": {
            "text/plain": [
              "1.3374875524306709"
            ]
          },
          "metadata": {
            "tags": []
          },
          "execution_count": 87
        }
      ]
    },
    {
      "cell_type": "markdown",
      "metadata": {
        "id": "IlHbHh6BSJnF",
        "colab_type": "text"
      },
      "source": [
        "# Вариант 3.1: KNN User based with weights\n",
        "\n"
      ]
    },
    {
      "cell_type": "code",
      "metadata": {
        "id": "ZBQD-n_9SQGO",
        "colab_type": "code",
        "colab": {}
      },
      "source": [
        "def train_knn(matrix):\n",
        "  return knn.fit(matrix)\n",
        "\n",
        "user_based_knn = train_knn(ratings_matrix.T)\n",
        "\n",
        "def predict_for_one(user_id, movie_id, closest_users_ids, distances_array):\n",
        "  weights = []\n",
        "  ratings = []\n",
        "\n",
        "  for i in range(len(closest_users_ids)):\n",
        "    rating = ratings_matrix[movie_id, closest_users_ids[i]]\n",
        "    if rating == 0:\n",
        "      continue\n",
        "    ratings.append(rating)\n",
        "    if distances_array[i] == 0:\n",
        "      weights.append(np.inf)\n",
        "    else:\n",
        "      weights.append(1/distances_array[i])\n",
        "  if len(weights) == 0:\n",
        "    return 0\n",
        "  return int(round(sum(np.array(weights) * np.array(ratings)) / sum(weights), 0))      \n",
        "\n",
        "\n",
        "def predict_for_many(user_based_knn, user_ids, movie_ids):\n",
        "  user_ids_set = set(user_ids)\n",
        "  user_numbers = {x: i for i, x in enumerate(set(test_users))}\n",
        "\n",
        "  distances, closest_neighbours = user_based_knn.kneighbors(\n",
        "    ratings_matrix[:, [x for x in user_ids_set]].T\n",
        "  )\n",
        "\n",
        "  predicted_ratings = []\n",
        "  for i in range(len(movie_ids)):\n",
        "    user_id = user_ids[i]\n",
        "    movie_id = movie_ids[i]\n",
        "    closest_users_ids = closest_neighbours[user_numbers[user_ids[i]]]\n",
        "    distances_array = distances[user_numbers[user_ids[i]]]\n",
        "    predicted_rating = predict_for_one(\n",
        "      user_id, \n",
        "      movie_id, \n",
        "      closest_users_ids, \n",
        "      distances_array\n",
        "    )\n",
        "    predicted_ratings.append(predicted_rating)\n",
        "  return predicted_ratings\n",
        "\n",
        "user_based_knn = train_knn(ratings_matrix.T)\n",
        "predicted_ratings_user_based_weighted = predict_for_many(user_based_knn, test_users, test_movies)"
      ],
      "execution_count": 0,
      "outputs": []
    },
    {
      "cell_type": "code",
      "metadata": {
        "id": "Fm7xYgnQXDAa",
        "colab_type": "code",
        "colab": {
          "base_uri": "https://localhost:8080/",
          "height": 34
        },
        "outputId": "cbd7be7c-8e04-4364-efc4-dc374b20ad92"
      },
      "source": [
        "error_user_based_weighted = np.mean(np.abs(np.array(predicted_ratings_user_based_weighted) - np.array(test_ratings)))\n",
        "error_user_based_weighted"
      ],
      "execution_count": 80,
      "outputs": [
        {
          "output_type": "execute_result",
          "data": {
            "text/plain": [
              "1.1928281883380105"
            ]
          },
          "metadata": {
            "tags": []
          },
          "execution_count": 80
        }
      ]
    },
    {
      "cell_type": "markdown",
      "metadata": {
        "id": "IfKj3NQxfJPX",
        "colab_type": "text"
      },
      "source": [
        "# Вариант 4: Item based & User based"
      ]
    },
    {
      "cell_type": "markdown",
      "metadata": {
        "id": "mdBupaI5m3RD",
        "colab_type": "text"
      },
      "source": [
        "Если просто взять взвешенную сумму"
      ]
    },
    {
      "cell_type": "code",
      "metadata": {
        "id": "GGtHXzAyfdzP",
        "colab_type": "code",
        "colab": {
          "base_uri": "https://localhost:8080/",
          "height": 34
        },
        "outputId": "4795ce3e-4f74-4070-bd01-e322d58fa585"
      },
      "source": [
        "item_based_weighted_weight = 1/error_item_based_weighted\n",
        "user_based_weighted_weight = 1/error_user_based_weighted\n",
        "mixed_user_item_based_predicted_ratings = [int(\n",
        "    round((\n",
        "        item_based_weighted_weight*predicted_ratings_item_based_weighted[i] + \n",
        "        user_based_weighted_weight*predicted_ratings_user_based_weighted[i]) / \n",
        "        (item_based_weighted_weight+user_based_weighted_weight), 0)) \n",
        "for i in range(len(predicted_ratings_item_based_weighted))\n",
        "]\n",
        "np.mean(np.abs(np.array(mixed_user_item_based_predicted_ratings) - np.array(test_ratings)))"
      ],
      "execution_count": 86,
      "outputs": [
        {
          "output_type": "execute_result",
          "data": {
            "text/plain": [
              "0.8787028375428749"
            ]
          },
          "metadata": {
            "tags": []
          },
          "execution_count": 86
        }
      ]
    },
    {
      "cell_type": "markdown",
      "metadata": {
        "id": "xWDR0d2pneGK",
        "colab_type": "text"
      },
      "source": [
        "# Вариант 5: лучший результат"
      ]
    },
    {
      "cell_type": "code",
      "metadata": {
        "id": "Ovd_K4L3nkRW",
        "colab_type": "code",
        "colab": {
          "base_uri": "https://localhost:8080/",
          "height": 34
        },
        "outputId": "e7665cf6-1d8f-4a79-9490-6f5dcec715ba"
      },
      "source": [
        "svd_user_mean_rating_prediction = []\n",
        "for i in range(len(test_users)):\n",
        "  svd_user_mean_rating_prediction.append(A[test_movies[i], test_users[i]])\n",
        "\n",
        "knn_p = np.array(predicted_ratings_item_based_weighted)\n",
        "svd_p = np.array(svd_user_mean_rating_prediction)\n",
        "\n",
        "svd_w = 1/error_svd_user_mean\n",
        "knn_w = 1/error_item_based_weighted\n",
        "\n",
        "np.mean(np.abs((svd_w * svd_p + knn_w * knn_p)/(svd_w+knn_w) - np.array(test_ratings)))"
      ],
      "execution_count": 95,
      "outputs": [
        {
          "output_type": "execute_result",
          "data": {
            "text/plain": [
              "0.75952810027115"
            ]
          },
          "metadata": {
            "tags": []
          },
          "execution_count": 95
        }
      ]
    }
  ]
}