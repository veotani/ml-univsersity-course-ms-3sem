{
 "cells": [
  {
   "cell_type": "code",
   "execution_count": 1,
   "metadata": {
    "_cell_guid": "b1076dfc-b9ad-4769-8c92-a6c4dae69d19",
    "_uuid": "8f2839f25d086af736a60e9eeb907d3b93b6e0e5"
   },
   "outputs": [],
   "source": [
    "import scipy\n",
    "import os\n",
    "import pandas as pd\n",
    "import numpy as np\n",
    "\n",
    "from numpy.linalg import norm\n",
    "from sklearn.neighbors import NearestNeighbors\n",
    "from scipy.sparse import csr_matrix, find\n",
    "from tqdm.notebook import tqdm\n",
    "from collections import defaultdict\n",
    "from matplotlib import pyplot\n",
    "from scipy.optimize import minimize"
   ]
  },
  {
   "cell_type": "markdown",
   "metadata": {},
   "source": [
    "# Подготовка данных"
   ]
  },
  {
   "cell_type": "code",
   "execution_count": 2,
   "metadata": {
    "_cell_guid": "79c7e3d0-c299-4dcb-8224-4455121ee9b0",
    "_uuid": "d629ff2d2480ee46fbb7e2d37f6b5fab8052498a"
   },
   "outputs": [],
   "source": [
    "INPUT_FILES_PATH = '../input/netflix-prize-data/'"
   ]
  },
  {
   "cell_type": "markdown",
   "metadata": {},
   "source": [
    "Удалим пропуски в ID пользователей (исполнение займёт 2-3 минуты)"
   ]
  },
  {
   "cell_type": "code",
   "execution_count": 3,
   "metadata": {},
   "outputs": [],
   "source": [
    "user_ids = set()\n",
    "user_ids_parts = []\n",
    "for file_part in range(1, 5): \n",
    "    user_ids_parts.append({line.split(',')[0] for line in open(INPUT_FILES_PATH + f'combined_data_{file_part}.txt') if ':' not in line})\n",
    "for user_ids_part in user_ids_parts:\n",
    "    user_ids = user_ids.union(user_ids_part)\n",
    "user_ids = {old_user_id: new_user_id for new_user_id, old_user_id in enumerate(user_ids)}"
   ]
  },
  {
   "cell_type": "code",
   "execution_count": 4,
   "metadata": {},
   "outputs": [
    {
     "name": "stdout",
     "output_type": "stream",
     "text": [
      "В словаре 480189 значений: True\n",
      "Тип ключей - string: True\n",
      "Тип значений - integer: True\n"
     ]
    }
   ],
   "source": [
    "is_key_type_string = type(list(user_ids.keys())[0]) == str\n",
    "is_value_type_int = type(list(user_ids.values())[0]) == int\n",
    "\n",
    "print(f'В словаре 480189 значений: {len(user_ids)  == 480189}')\n",
    "print(f'Тип ключей - string: {is_key_type_string}')\n",
    "print(f'Тип значений - integer: {is_value_type_int}')"
   ]
  },
  {
   "cell_type": "markdown",
   "metadata": {},
   "source": [
    "Считаем данные из исходных файлов (~ 6 минут)"
   ]
  },
  {
   "cell_type": "code",
   "execution_count": 5,
   "metadata": {},
   "outputs": [
    {
     "data": {
      "application/vnd.jupyter.widget-view+json": {
       "model_id": "48b94ce05a6c4b7ab08ae72641abe606",
       "version_major": 2,
       "version_minor": 0
      },
      "text/plain": [
       "HBox(children=(IntProgress(value=1, bar_style='info', max=1), HTML(value='')))"
      ]
     },
     "metadata": {},
     "output_type": "display_data"
    },
    {
     "name": "stdout",
     "output_type": "stream",
     "text": [
      "\n"
     ]
    },
    {
     "data": {
      "application/vnd.jupyter.widget-view+json": {
       "model_id": "4c6954cc8ce54cf6b2523d7155f6885b",
       "version_major": 2,
       "version_minor": 0
      },
      "text/plain": [
       "HBox(children=(IntProgress(value=1, bar_style='info', max=1), HTML(value='')))"
      ]
     },
     "metadata": {},
     "output_type": "display_data"
    },
    {
     "name": "stdout",
     "output_type": "stream",
     "text": [
      "\n"
     ]
    },
    {
     "data": {
      "application/vnd.jupyter.widget-view+json": {
       "model_id": "b6defe03cf684745bf284edb22c0dba8",
       "version_major": 2,
       "version_minor": 0
      },
      "text/plain": [
       "HBox(children=(IntProgress(value=1, bar_style='info', max=1), HTML(value='')))"
      ]
     },
     "metadata": {},
     "output_type": "display_data"
    },
    {
     "name": "stdout",
     "output_type": "stream",
     "text": [
      "\n"
     ]
    },
    {
     "data": {
      "application/vnd.jupyter.widget-view+json": {
       "model_id": "85c2fe794e3a4c2183d2aec53365fddb",
       "version_major": 2,
       "version_minor": 0
      },
      "text/plain": [
       "HBox(children=(IntProgress(value=1, bar_style='info', max=1), HTML(value='')))"
      ]
     },
     "metadata": {},
     "output_type": "display_data"
    },
    {
     "name": "stdout",
     "output_type": "stream",
     "text": [
      "\n"
     ]
    }
   ],
   "source": [
    "users =   [] # user ids   translated into row indeces (which are 1 less than id)\n",
    "movies =  [] # movies ids translated into col indeces (which are 1 less than id)\n",
    "ratings = [] # rating[k] = (rating that users[k] user gave to movies[k] movie)\n",
    "for file_part in range(1, 5): # the training data is splited into 4 parts\n",
    "    filename = INPUT_FILES_PATH + f'combined_data_{file_part}.txt'\n",
    "    with open(filename) as f:\n",
    "        for line in tqdm(f):\n",
    "            if ':' in line:\n",
    "                movie_id = int(line.split(':')[0])\n",
    "                continue\n",
    "            (user_id, rating, _) = line.split(',')\n",
    "            users.append(user_ids[user_id])\n",
    "            movies.append(int(movie_id) - 1)\n",
    "            ratings.append(int(rating))"
   ]
  },
  {
   "cell_type": "markdown",
   "metadata": {},
   "source": [
    "Запишем их в единый csv файл"
   ]
  },
  {
   "cell_type": "code",
   "execution_count": 6,
   "metadata": {},
   "outputs": [],
   "source": [
    "with open('data_csv.csv', mode='w+') as f:\n",
    "    f.write('video_id,user_id,rating\\n')\n",
    "    for i in range(len(users)):\n",
    "        f.write(f'{users[i]},{movies[i]},{ratings[i]}\\n')"
   ]
  },
  {
   "cell_type": "markdown",
   "metadata": {},
   "source": [
    "Почистим память от исходных данных, которые мы уже записали в более удобном виде в csv файл"
   ]
  },
  {
   "cell_type": "code",
   "execution_count": 7,
   "metadata": {},
   "outputs": [],
   "source": [
    "del users\n",
    "del movies\n",
    "del ratings"
   ]
  },
  {
   "cell_type": "markdown",
   "metadata": {},
   "source": [
    "Загрузим данные в pandas dataframe"
   ]
  },
  {
   "cell_type": "code",
   "execution_count": 8,
   "metadata": {},
   "outputs": [
    {
     "data": {
      "text/html": [
       "<div>\n",
       "<style scoped>\n",
       "    .dataframe tbody tr th:only-of-type {\n",
       "        vertical-align: middle;\n",
       "    }\n",
       "\n",
       "    .dataframe tbody tr th {\n",
       "        vertical-align: top;\n",
       "    }\n",
       "\n",
       "    .dataframe thead th {\n",
       "        text-align: right;\n",
       "    }\n",
       "</style>\n",
       "<table border=\"1\" class=\"dataframe\">\n",
       "  <thead>\n",
       "    <tr style=\"text-align: right;\">\n",
       "      <th></th>\n",
       "      <th>video_id</th>\n",
       "      <th>user_id</th>\n",
       "      <th>rating</th>\n",
       "    </tr>\n",
       "  </thead>\n",
       "  <tbody>\n",
       "    <tr>\n",
       "      <th>0</th>\n",
       "      <td>244197</td>\n",
       "      <td>0</td>\n",
       "      <td>3</td>\n",
       "    </tr>\n",
       "    <tr>\n",
       "      <th>1</th>\n",
       "      <td>219652</td>\n",
       "      <td>0</td>\n",
       "      <td>5</td>\n",
       "    </tr>\n",
       "    <tr>\n",
       "      <th>2</th>\n",
       "      <td>133800</td>\n",
       "      <td>0</td>\n",
       "      <td>4</td>\n",
       "    </tr>\n",
       "    <tr>\n",
       "      <th>3</th>\n",
       "      <td>101743</td>\n",
       "      <td>0</td>\n",
       "      <td>4</td>\n",
       "    </tr>\n",
       "    <tr>\n",
       "      <th>4</th>\n",
       "      <td>75717</td>\n",
       "      <td>0</td>\n",
       "      <td>3</td>\n",
       "    </tr>\n",
       "  </tbody>\n",
       "</table>\n",
       "</div>"
      ],
      "text/plain": [
       "   video_id  user_id  rating\n",
       "0    244197        0       3\n",
       "1    219652        0       5\n",
       "2    133800        0       4\n",
       "3    101743        0       4\n",
       "4     75717        0       3"
      ]
     },
     "execution_count": 8,
     "metadata": {},
     "output_type": "execute_result"
    }
   ],
   "source": [
    "user_movie_rating = pd.read_csv('data_csv.csv')\n",
    "user_movie_rating.head()"
   ]
  },
  {
   "cell_type": "markdown",
   "metadata": {},
   "source": [
    "Возьмём только первую 1000 фильмов по количеству полученных оценок и первую 1000 пользователей по количеству поставленных оценок"
   ]
  },
  {
   "cell_type": "code",
   "execution_count": 9,
   "metadata": {},
   "outputs": [
    {
     "data": {
      "text/html": [
       "<div>\n",
       "<style scoped>\n",
       "    .dataframe tbody tr th:only-of-type {\n",
       "        vertical-align: middle;\n",
       "    }\n",
       "\n",
       "    .dataframe tbody tr th {\n",
       "        vertical-align: top;\n",
       "    }\n",
       "\n",
       "    .dataframe thead th {\n",
       "        text-align: right;\n",
       "    }\n",
       "</style>\n",
       "<table border=\"1\" class=\"dataframe\">\n",
       "  <thead>\n",
       "    <tr style=\"text-align: right;\">\n",
       "      <th></th>\n",
       "      <th>video_id</th>\n",
       "      <th>user_id</th>\n",
       "      <th>rating</th>\n",
       "    </tr>\n",
       "  </thead>\n",
       "  <tbody>\n",
       "    <tr>\n",
       "      <th>52567</th>\n",
       "      <td>470216</td>\n",
       "      <td>27</td>\n",
       "      <td>1</td>\n",
       "    </tr>\n",
       "    <tr>\n",
       "      <th>52579</th>\n",
       "      <td>335513</td>\n",
       "      <td>27</td>\n",
       "      <td>4</td>\n",
       "    </tr>\n",
       "    <tr>\n",
       "      <th>52643</th>\n",
       "      <td>133837</td>\n",
       "      <td>27</td>\n",
       "      <td>4</td>\n",
       "    </tr>\n",
       "    <tr>\n",
       "      <th>52727</th>\n",
       "      <td>282650</td>\n",
       "      <td>27</td>\n",
       "      <td>4</td>\n",
       "    </tr>\n",
       "    <tr>\n",
       "      <th>52755</th>\n",
       "      <td>440689</td>\n",
       "      <td>27</td>\n",
       "      <td>4</td>\n",
       "    </tr>\n",
       "  </tbody>\n",
       "</table>\n",
       "</div>"
      ],
      "text/plain": [
       "       video_id  user_id  rating\n",
       "52567    470216       27       1\n",
       "52579    335513       27       4\n",
       "52643    133837       27       4\n",
       "52727    282650       27       4\n",
       "52755    440689       27       4"
      ]
     },
     "execution_count": 9,
     "metadata": {},
     "output_type": "execute_result"
    }
   ],
   "source": [
    "most_ratings_movies = user_movie_rating['video_id'].value_counts()[:1000].index\n",
    "most_ratings_users =  user_movie_rating['user_id'] .value_counts()[:1000].index\n",
    "\n",
    "user_movie_rating_top_videos = user_movie_rating[user_movie_rating['video_id'].isin(most_ratings_movies)]\n",
    "user_movie_rating_top = user_movie_rating_top_videos[user_movie_rating_top_videos['user_id'].isin(most_ratings_users)]\n",
    "del user_movie_rating_top_videos\n",
    "user_movie_rating_top.head()"
   ]
  },
  {
   "cell_type": "markdown",
   "metadata": {},
   "source": [
    "Создадим новые ID (чтобы не было столбцов и строк с индексом выше 1000 и наша sparse матрица не была слишком большой)"
   ]
  },
  {
   "cell_type": "code",
   "execution_count": 10,
   "metadata": {},
   "outputs": [],
   "source": [
    "new_movie_ids = dict()\n",
    "current_movie_id = 0\n",
    "for old_movie_id in user_movie_rating_top['video_id'].unique():\n",
    "    new_movie_ids[old_movie_id] = current_movie_id\n",
    "    current_movie_id+=1\n",
    "    \n",
    "new_user_ids = dict()\n",
    "current_user_id = 0\n",
    "for old_user_id in user_movie_rating_top['user_id'].unique():\n",
    "    new_user_ids[old_user_id] = current_user_id\n",
    "    current_user_id+=1"
   ]
  },
  {
   "cell_type": "markdown",
   "metadata": {},
   "source": [
    "И поменяем их ID в нашей таблице"
   ]
  },
  {
   "cell_type": "code",
   "execution_count": 11,
   "metadata": {},
   "outputs": [
    {
     "data": {
      "text/html": [
       "<div>\n",
       "<style scoped>\n",
       "    .dataframe tbody tr th:only-of-type {\n",
       "        vertical-align: middle;\n",
       "    }\n",
       "\n",
       "    .dataframe tbody tr th {\n",
       "        vertical-align: top;\n",
       "    }\n",
       "\n",
       "    .dataframe thead th {\n",
       "        text-align: right;\n",
       "    }\n",
       "</style>\n",
       "<table border=\"1\" class=\"dataframe\">\n",
       "  <thead>\n",
       "    <tr style=\"text-align: right;\">\n",
       "      <th></th>\n",
       "      <th>video_id</th>\n",
       "      <th>user_id</th>\n",
       "      <th>rating</th>\n",
       "    </tr>\n",
       "  </thead>\n",
       "  <tbody>\n",
       "    <tr>\n",
       "      <th>52567</th>\n",
       "      <td>0</td>\n",
       "      <td>0</td>\n",
       "      <td>1</td>\n",
       "    </tr>\n",
       "    <tr>\n",
       "      <th>52579</th>\n",
       "      <td>1</td>\n",
       "      <td>0</td>\n",
       "      <td>4</td>\n",
       "    </tr>\n",
       "    <tr>\n",
       "      <th>52643</th>\n",
       "      <td>2</td>\n",
       "      <td>0</td>\n",
       "      <td>4</td>\n",
       "    </tr>\n",
       "    <tr>\n",
       "      <th>52727</th>\n",
       "      <td>3</td>\n",
       "      <td>0</td>\n",
       "      <td>4</td>\n",
       "    </tr>\n",
       "    <tr>\n",
       "      <th>52755</th>\n",
       "      <td>4</td>\n",
       "      <td>0</td>\n",
       "      <td>4</td>\n",
       "    </tr>\n",
       "  </tbody>\n",
       "</table>\n",
       "</div>"
      ],
      "text/plain": [
       "       video_id  user_id  rating\n",
       "52567         0        0       1\n",
       "52579         1        0       4\n",
       "52643         2        0       4\n",
       "52727         3        0       4\n",
       "52755         4        0       4"
      ]
     },
     "execution_count": 11,
     "metadata": {},
     "output_type": "execute_result"
    }
   ],
   "source": [
    "user_movie_rating_top['user_id'] = user_movie_rating_top['user_id'].apply(lambda x: new_user_ids[x])\n",
    "user_movie_rating_top['video_id'] = user_movie_rating_top['video_id'].apply(lambda x: new_movie_ids[x])\n",
    "user_movie_rating_top.head()"
   ]
  },
  {
   "cell_type": "markdown",
   "metadata": {},
   "source": [
    "Посмотрим, сколько значений матрицы не будут пустыми"
   ]
  },
  {
   "cell_type": "code",
   "execution_count": 12,
   "metadata": {},
   "outputs": [
    {
     "name": "stdout",
     "output_type": "stream",
     "text": [
      "75%\n"
     ]
    }
   ],
   "source": [
    "print(f'{100*len(user_movie_rating_top)/(1000*1000):.0f}%')"
   ]
  },
  {
   "cell_type": "markdown",
   "metadata": {},
   "source": [
    "Создадим саму матрицу. Каждая строка представляет из себя видео, а каждый столбец -- юзера. В способе с разложением матрицы это не имеет значения, но для user_based и item_based коллаборативной фильтрации, а именно для применения KNN, мы должны понимать, что будет выступать в роли признаков, а что в роли объектов."
   ]
  },
  {
   "cell_type": "code",
   "execution_count": 13,
   "metadata": {},
   "outputs": [
    {
     "data": {
      "text/plain": [
       "(1000, 1000)"
      ]
     },
     "execution_count": 13,
     "metadata": {},
     "output_type": "execute_result"
    }
   ],
   "source": [
    "ratings_matrix = csr_matrix((user_movie_rating_top['rating'], (user_movie_rating_top['video_id'], user_movie_rating_top['user_id'])))\n",
    "ratings_matrix.shape"
   ]
  },
  {
   "cell_type": "markdown",
   "metadata": {},
   "source": [
    "Выделим тестовый сет из этой матрицы\n",
    "Представленный далее алгоритм удаляет максимум один элемент из каждой строки и столбца. Таким образом, максимум будет удалено min(N, M) значений"
   ]
  },
  {
   "cell_type": "code",
   "execution_count": 14,
   "metadata": {},
   "outputs": [
    {
     "data": {
      "application/vnd.jupyter.widget-view+json": {
       "model_id": "39151e422e5f4792b6d10050532f7ebd",
       "version_major": 2,
       "version_minor": 0
      },
      "text/plain": [
       "HBox(children=(IntProgress(value=0, max=749597), HTML(value='')))"
      ]
     },
     "metadata": {},
     "output_type": "display_data"
    },
    {
     "name": "stdout",
     "output_type": "stream",
     "text": [
      "\n"
     ]
    }
   ],
   "source": [
    "def extract_test_dataset():\n",
    "    deleted_user_ids, deleted_movie_ids, deleted_ratings = [], [], []\n",
    "    \n",
    "    count_movies = user_movie_rating_top['video_id'].value_counts()\n",
    "    count_users = user_movie_rating_top['user_id'].value_counts()\n",
    "    \n",
    "    movie_ids, user_ids, ratings = np.array(find(ratings_matrix))\n",
    "    for movie_id, user_id, rating in tqdm(np.array(find(ratings_matrix)).T):\n",
    "        if count_movies.get(movie_id) > 1 and count_users.get(user_id) > 1:\n",
    "            if movie_id not in deleted_movie_ids and user_id not in deleted_user_ids:\n",
    "                deleted_user_ids.append(user_id)\n",
    "                deleted_movie_ids.append(movie_id)\n",
    "                deleted_ratings.append(rating)\n",
    "    \n",
    "    for i in range(len(deleted_user_ids)):\n",
    "        ratings_matrix[deleted_movie_ids[i], deleted_user_ids[i]] = 0\n",
    "        \n",
    "    return deleted_user_ids, deleted_movie_ids, deleted_ratings\n",
    "\n",
    "test_user_ids, test_movie_ids, test_ratings = extract_test_dataset()"
   ]
  },
  {
   "cell_type": "markdown",
   "metadata": {},
   "source": [
    "Проверка того, что значения удалились"
   ]
  },
  {
   "cell_type": "code",
   "execution_count": 15,
   "metadata": {},
   "outputs": [],
   "source": [
    "for test_rating_number in range(len(test_user_ids)):\n",
    "    assert ratings_matrix[int(test_movie_ids[test_rating_number]), int(test_user_ids[test_rating_number])] == 0 \n",
    "    assert test_ratings[test_rating_number] != 0"
   ]
  },
  {
   "cell_type": "markdown",
   "metadata": {},
   "source": [
    "# Обучение модели. Вариант 1: разложение матрицы при помощи готового SVD"
   ]
  },
  {
   "cell_type": "markdown",
   "metadata": {},
   "source": [
    "### Исследования проводились на подвыборке"
   ]
  },
  {
   "cell_type": "markdown",
   "metadata": {},
   "source": [
    "Примерно 6 минут"
   ]
  },
  {
   "cell_type": "code",
   "execution_count": 17,
   "metadata": {},
   "outputs": [
    {
     "name": "stdout",
     "output_type": "stream",
     "text": [
      "0.9496705532055311\n",
      "0.9198396793587175\n"
     ]
    }
   ],
   "source": [
    "from scipy.sparse.linalg import svds\n",
    "\n",
    "# csr_matrix.mean(ratings_matrix, axis=???)\n",
    "def fill_user_rating_table(ratings_matrix, k):\n",
    "    ratings_matrix = ratings_matrix.astype('f')\n",
    "    U, sigma, Vt = svds(ratings_matrix, k=k)\n",
    "    sigma = np.diag(sigma)\n",
    "    return np.dot(np.dot(U, sigma), Vt)\n",
    "\n",
    "# Подсчёт средней ошибки\n",
    "def compute_err(trained_user_rating_matrix):\n",
    "    mean_err = 0\n",
    "    for test_rating_number in range(len(test_user_ids)):\n",
    "        mean_err += (abs(trained_user_rating_matrix[int(test_movie_ids[test_rating_number]), int(test_user_ids[test_rating_number])] - test_ratings[test_rating_number]))\n",
    "    return mean_err / len(test_user_ids)\n",
    "\n",
    "def compute_err_real_estimation(trained_user_rating_matrix):\n",
    "    mean_err = 0\n",
    "    for test_rating_number in range(len(test_user_ids)):\n",
    "        rating_estimation = trained_user_rating_matrix[int(test_movie_ids[test_rating_number]), int(test_user_ids[test_rating_number])]\n",
    "        if rating_estimation < 1:            \n",
    "            real_rating_estimation = 1\n",
    "        elif rating_estimation > 5:\n",
    "            real_rating_estimation = 5\n",
    "        else:\n",
    "            real_rating_estimation = int(round(rating_estimation, 0))\n",
    "        mean_err += abs(real_rating_estimation - test_ratings[test_rating_number])\n",
    "    return mean_err / len(test_user_ids)\n",
    "\n",
    "\n",
    "# trained_user_rating_matrix = fill_user_rating_table(ratings_matrix, 14)\n",
    "print(compute_err(trained_user_rating_matrix))\n",
    "print(compute_err_real_estimation(trained_user_rating_matrix))"
   ]
  },
  {
   "cell_type": "markdown",
   "metadata": {},
   "source": [
    "Код выше был применён на всех k от 1 до 200 включительно. График имел локальный минимум при k = 14 с ошибкой ~0.95 в среднем. При k < 14 функция ошибки монотонно убывает, а после него монотонно возрастает.\n",
    "\n",
    "Если оптимизировать функцию таким образом, чтобы она считала разницу не между значением матрицы предсказаний и реальным значением рейтинга, а строила по предсказанию оценку, то ошибка немного упадёт до ~0.92."
   ]
  },
  {
   "cell_type": "markdown",
   "metadata": {},
   "source": [
    "Для этого исследования была взята подвыборка, которая имела больше всего значений (иначе говоря, подматрица 1000 * 1000 с самым маленьким количеством пустых значений) и обучение дало приемлимый результат (средняя ошибка всего 0.94 балла). При этом на полном наборе данных (в другом jupyter notebook) ошибка составила около 2.5.\n",
    "В полном датасете 100 миллионов значений при 8 миллиардов сочетаний user-movie. Таким образом, в полном датасете полнота составляет 1% (в то время как в этом сабсете 75%). Можно сделать вывод, что полнота имеет влияние на обучение, полный датасет предсказывает значения с огрмной средней ошибкой (2.5 при оценках от 1 до 5).\n"
   ]
  },
  {
   "cell_type": "markdown",
   "metadata": {},
   "source": [
    "# Обучение модели. Вариант 2: KNN item-based"
   ]
  },
  {
   "cell_type": "markdown",
   "metadata": {},
   "source": [
    "Первый вариант:\n",
    "* Объекты -- видео\n",
    "* Признаки -- пользователи\n",
    "В этом случае можно будет подавать на вход модели видео и выдавать похожие видео.\n",
    "\n",
    "По следам [статьи](https://towardsdatascience.com/prototyping-a-recommender-system-step-by-step-part-1-knn-item-based-collaborative-filtering-637969614ea) были взяты аналогичные параметры (см. параметры NearestNeighbors)"
   ]
  },
  {
   "cell_type": "code",
   "execution_count": 70,
   "metadata": {},
   "outputs": [],
   "source": [
    "from sklearn.neighbors import NearestNeighbors\n",
    "knn_item = NearestNeighbors(n_neighbors=20, metric='cosine', algorithm='brute', n_jobs=-1)\n",
    "item_based_knn = knn_item.fit(ratings_matrix)"
   ]
  },
  {
   "cell_type": "markdown",
   "metadata": {},
   "source": [
    "Теперь можно предсказывать, какую оценку поставит пользователь конкретному видео. Возьмём одно значение из тестовой выборки, чтобы понять процесс"
   ]
  },
  {
   "cell_type": "code",
   "execution_count": 27,
   "metadata": {},
   "outputs": [
    {
     "data": {
      "text/plain": [
       "0"
      ]
     },
     "execution_count": 27,
     "metadata": {},
     "output_type": "execute_result"
    }
   ],
   "source": [
    "u_id, m_id, rat = test_user_ids[0], test_movie_ids[0], test_ratings[0]\n",
    "# Индексы похожих фильмов\n",
    "_, idxs = item_based_knn.kneighbors(ratings_matrix[m_id, :])\n",
    "# Возвращаем самый похожий\n",
    "most_alike_movie = ratings_matrix[idxs[:, 1], :]\n",
    "most_alike_movie[:, u_id][0, 0]"
   ]
  },
  {
   "cell_type": "markdown",
   "metadata": {},
   "source": [
    "Сразу же можно отметить проблему этого метода: пользователь попросту мог не посмотреть похожие видео и оценка будет 0. Однако полностью исключить использоавние этого метода по этой причине нельзя. Попытаемся исправить ситуацию просмотром не одного, а нескольких близжайших фильмов"
   ]
  },
  {
   "cell_type": "code",
   "execution_count": 28,
   "metadata": {},
   "outputs": [],
   "source": [
    "for idx in idxs[:, 1:]:\n",
    "    most_alike_movie = ratings_matrix[idx, :]\n",
    "    if most_alike_movie[:, u_id][0, 0] != 0:\n",
    "        print(most_alike_movie[:, u_id][0, 0])\n",
    "        break"
   ]
  },
  {
   "cell_type": "markdown",
   "metadata": {},
   "source": [
    "Однако такого не нашлось. Посмотрим на картину в целом и посчитаем ошибку несколькими методами.\n",
    "\n",
    "1. Считаем только разницу между предсказаным и реальным значением, если предсказаное значение существует (то есть не равно 0).\n",
    "1. Считаем разницу между предсказанным и реальным значением даже если предсказали 0\n",
    "\n",
    "Помимо этого посчитаем, сколько значений не было предсказано совсем."
   ]
  },
  {
   "cell_type": "code",
   "execution_count": 71,
   "metadata": {},
   "outputs": [
    {
     "data": {
      "application/vnd.jupyter.widget-view+json": {
       "model_id": "3351212210e946f9a68a5e5b22eaa95f",
       "version_major": 2,
       "version_minor": 0
      },
      "text/plain": [
       "HBox(children=(IntProgress(value=0, max=998), HTML(value='')))"
      ]
     },
     "metadata": {},
     "output_type": "display_data"
    },
    {
     "name": "stdout",
     "output_type": "stream",
     "text": [
      "\n"
     ]
    },
    {
     "data": {
      "text/plain": [
       "(0.9649298597194389, 0.9649298597194389, 0)"
      ]
     },
     "execution_count": 71,
     "metadata": {},
     "output_type": "execute_result"
    }
   ],
   "source": [
    "def get_prediction(item_based_knn, u_id, m_id):\n",
    "    _, idxs = item_based_knn.kneighbors(ratings_matrix[m_id, :])\n",
    "    for idx in idxs[0, 1:]:\n",
    "        most_alike_movie = ratings_matrix[idx, :]\n",
    "        if most_alike_movie[:, u_id][0, 0] != 0:\n",
    "            return most_alike_movie[:, u_id][0, 0]\n",
    "    return 0\n",
    "\n",
    "\n",
    "\n",
    "def compute_err(test_us, test_ms, real_rating):\n",
    "    total_err = []\n",
    "    predicted_err = []\n",
    "    count_not_predicted = 0\n",
    "    for i in tqdm(range(len(test_us))):\n",
    "        prediction = get_prediction(item_based_knn, test_us[i], test_ms[i])\n",
    "        if prediction == 0:\n",
    "            count_not_predicted+=1\n",
    "        else:\n",
    "            predicted_err.append(abs(prediction - real_rating[i]))\n",
    "        total_err.append(abs(prediction - real_rating[i]))\n",
    "        \n",
    "    return sum(total_err)/len(total_err), sum(predicted_err)/len(predicted_err), count_not_predicted\n",
    "\n",
    "compute_err(test_user_ids, test_movie_ids, test_ratings)"
   ]
  },
  {
   "cell_type": "markdown",
   "metadata": {},
   "source": [
    "Ошибка в этом подходе составляет 0.96. При этом для всех значений нашлось предсказание. Причина этому -- очень хороший датасет, который мы выделили из общей выборки."
   ]
  },
  {
   "cell_type": "markdown",
   "metadata": {},
   "source": [
    "# Обучение модели. Вариант 3: KNN user-based"
   ]
  },
  {
   "cell_type": "markdown",
   "metadata": {},
   "source": [
    "Всё, что поменяется в этом случае - это матрица, а именно мы транспонируем её, чтобы объектами теперь были пользователи, а не фильмы"
   ]
  },
  {
   "cell_type": "code",
   "execution_count": 72,
   "metadata": {},
   "outputs": [],
   "source": [
    "knn_user = NearestNeighbors(n_neighbors=20, metric='cosine', algorithm='brute', n_jobs=-1)\n",
    "user_based_knn = knn_user.fit(ratings_matrix.T)"
   ]
  },
  {
   "cell_type": "markdown",
   "metadata": {},
   "source": [
    "Снова сделаем методы для предсказания и подсчёта ошибки подобным образом"
   ]
  },
  {
   "cell_type": "code",
   "execution_count": 73,
   "metadata": {},
   "outputs": [
    {
     "data": {
      "application/vnd.jupyter.widget-view+json": {
       "model_id": "71ca0e57b17e4b55825a58c686b320ce",
       "version_major": 2,
       "version_minor": 0
      },
      "text/plain": [
       "HBox(children=(IntProgress(value=0, max=998), HTML(value='')))"
      ]
     },
     "metadata": {},
     "output_type": "display_data"
    },
    {
     "name": "stdout",
     "output_type": "stream",
     "text": [
      "\n"
     ]
    },
    {
     "data": {
      "text/plain": [
       "(0.7605210420841684, 0.7605210420841684, 0)"
      ]
     },
     "execution_count": 73,
     "metadata": {},
     "output_type": "execute_result"
    }
   ],
   "source": [
    "def get_prediction_user(user_based_knn, u_id, m_id):\n",
    "    _, idxs = user_based_knn.kneighbors(ratings_matrix.T[u_id, :])\n",
    "    for idx in idxs[0, 1:]:\n",
    "        most_alike_user = ratings_matrix[:, idx]\n",
    "        if most_alike_user[m_id, :][0, 0] != 0:\n",
    "            return most_alike_user[m_id, :][0, 0]\n",
    "    return 0\n",
    "\n",
    "def compute_err_user(test_us, test_ms, real_rating):\n",
    "    total_err = []\n",
    "    predicted_err = []\n",
    "    count_not_predicted = 0\n",
    "    for i in tqdm(range(len(test_us))):\n",
    "        prediction = get_prediction_user(user_based_knn, test_us[i], test_ms[i])\n",
    "        if prediction == 0:\n",
    "            count_not_predicted+=1\n",
    "        else:\n",
    "            predicted_err.append(abs(prediction - real_rating[i]))\n",
    "        total_err.append(abs(prediction - real_rating[i]))\n",
    "        \n",
    "    return sum(total_err)/len(total_err), sum(predicted_err)/len(predicted_err), count_not_predicted\n",
    "\n",
    "compute_err_user(test_user_ids, test_movie_ids, test_ratings)"
   ]
  },
  {
   "cell_type": "markdown",
   "metadata": {},
   "source": [
    "Ошибка в этом подходе составляет 0.76. Опять же, для всех значений нашлось предсказание."
   ]
  },
  {
   "cell_type": "markdown",
   "metadata": {},
   "source": [
    "# Вариант 4: KNN user-based & item-based"
   ]
  },
  {
   "cell_type": "markdown",
   "metadata": {},
   "source": [
    "Попробуем совместить подходы. Для этого будем считать оценку двумя методами, а потом брать их взвешенное среднее. В качестве весов возьмём обратное значения пропорциональные обрантым ошибкам на тестовых выборок для обоих подходов:\n",
    "\n",
    "\\\\(w_1, w_2\\\\) - веса оценки первого и второго подхода\n",
    "\n",
    "\\\\(x, y\\\\)     - ошибка первого и второго метода\n",
    "\n",
    "\\\\(w_1/w_2 = y/x, w_1+w_2=2\\\\) - соотношение, которого пытаемся добиться\n",
    "\n",
    "\\\\(w_1 = 2 / (1 + (x/y)), w_2 = x/y * w_1)\\\\) -- решение системы"
   ]
  },
  {
   "cell_type": "code",
   "execution_count": 79,
   "metadata": {},
   "outputs": [
    {
     "data": {
      "application/vnd.jupyter.widget-view+json": {
       "model_id": "eb67ecaad3c5431f978a2ee35e9b771d",
       "version_major": 2,
       "version_minor": 0
      },
      "text/plain": [
       "HBox(children=(IntProgress(value=0, max=998), HTML(value='')))"
      ]
     },
     "metadata": {},
     "output_type": "display_data"
    },
    {
     "name": "stdout",
     "output_type": "stream",
     "text": [
      "\n"
     ]
    },
    {
     "data": {
      "text/plain": [
       "(0.7244488977955912, 0.7244488977955912, 0)"
      ]
     },
     "execution_count": 79,
     "metadata": {},
     "output_type": "execute_result"
    }
   ],
   "source": [
    "x = 0.9649298597194389\n",
    "y = 0.7605210420841684\n",
    "\n",
    "w1 = 2/(1+(x/y))\n",
    "w2 = (x/y)*w1\n",
    "\n",
    "def get_prediction_user_movie(item_based_knn, user_based_knn, u_id, m_id):    \n",
    "    r1 = get_prediction(item_based_knn, u_id, m_id)    \n",
    "    r2 = get_prediction_user(user_based_knn, u_id, m_id)\n",
    "    \n",
    "    return (r1*w1 + r2*w2)/2\n",
    "\n",
    "def compute_err_user_movie(test_us, test_ms, real_rating):\n",
    "    total_err = []\n",
    "    predicted_err = []\n",
    "    count_not_predicted = 0\n",
    "    for i in tqdm(range(len(test_us))):\n",
    "        prediction = get_prediction_user_movie(item_based_knn, user_based_knn, test_us[i], test_ms[i])\n",
    "        prediction = int(round(prediction, 0))\n",
    "        if prediction == 0:\n",
    "            count_not_predicted+=1\n",
    "        else:\n",
    "            predicted_err.append(abs(prediction - real_rating[i]))\n",
    "        total_err.append(abs(prediction - real_rating[i]))\n",
    "    return sum(total_err)/len(total_err), sum(predicted_err)/len(predicted_err), count_not_predicted\n",
    "        \n",
    "compute_err_user_movie(test_user_ids, test_movie_ids, test_ratings)"
   ]
  },
  {
   "cell_type": "code",
   "execution_count": 80,
   "metadata": {},
   "outputs": [
    {
     "data": {
      "text/plain": [
       "(0.881533101045296, 1.1184668989547037)"
      ]
     },
     "execution_count": 80,
     "metadata": {},
     "output_type": "execute_result"
    }
   ],
   "source": [
    "w1, w2"
   ]
  },
  {
   "cell_type": "markdown",
   "metadata": {},
   "source": [
    "Совмещённый подход выдал наилучший результат: 0.72. Веса для user_based и item_based были 1.1184668989547037, 0.881533101045296 соответственно. Для этого подхода нужно было прогнать алгоритм на тестовой выборке для каждого подхода отдельно, чтобы получить такие веса."
   ]
  },
  {
   "cell_type": "markdown",
   "metadata": {},
   "source": [
    "# Вариант 5: Mixed"
   ]
  },
  {
   "cell_type": "markdown",
   "metadata": {},
   "source": [
    "В качестве финального варианта применим все методы вместе. Веса опять вычислим по ошибкам на тестовом датасете."
   ]
  },
  {
   "cell_type": "code",
   "execution_count": 82,
   "metadata": {},
   "outputs": [
    {
     "data": {
      "application/vnd.jupyter.widget-view+json": {
       "model_id": "d6587fb3c5244700b5c72f26ee13ea13",
       "version_major": 2,
       "version_minor": 0
      },
      "text/plain": [
       "HBox(children=(IntProgress(value=0, max=998), HTML(value='')))"
      ]
     },
     "metadata": {},
     "output_type": "display_data"
    },
    {
     "name": "stdout",
     "output_type": "stream",
     "text": [
      "\n"
     ]
    },
    {
     "data": {
      "text/plain": [
       "(0.6933867735470942, 0.6933867735470942, 0)"
      ]
     },
     "execution_count": 82,
     "metadata": {},
     "output_type": "execute_result"
    }
   ],
   "source": [
    "x = 0.9649298597194389\n",
    "y = 0.7605210420841684\n",
    "z = 0.9496705532055311\n",
    "\n",
    "w3 = 3*z/(x+y+z)\n",
    "w2 = (y/z)*w3\n",
    "w1 = (x/z)*w3\n",
    "\n",
    "def get_prediction_user_movie_svd(item_based_knn, user_based_knn, trained_user_rating_matrix, u_id, m_id):    \n",
    "    r1 = get_prediction(item_based_knn, u_id, m_id)    \n",
    "    r2 = get_prediction_user(user_based_knn, u_id, m_id)\n",
    "    r3 = trained_user_rating_matrix[m_id, u_id]    \n",
    "    return (r1*w1 + r2*w2 + r3*w3)/3\n",
    "\n",
    "def compute_err_user_movie_svd(test_us, test_ms, real_rating):\n",
    "    total_err = []\n",
    "    predicted_err = []\n",
    "    count_not_predicted = 0\n",
    "    for i in tqdm(range(len(test_us))):\n",
    "        prediction = get_prediction_user_movie_svd(item_based_knn, user_based_knn, trained_user_rating_matrix, test_us[i], test_ms[i])\n",
    "        prediction = int(round(prediction, 0))\n",
    "        if prediction == 0:\n",
    "            count_not_predicted+=1\n",
    "        else:\n",
    "            predicted_err.append(abs(prediction - real_rating[i]))\n",
    "        total_err.append(abs(prediction - real_rating[i]))\n",
    "    return sum(total_err)/len(total_err), sum(predicted_err)/len(predicted_err), count_not_predicted\n",
    "        \n",
    "compute_err_user_movie_svd(test_user_ids, test_movie_ids, test_ratings)"
   ]
  },
  {
   "cell_type": "code",
   "execution_count": 83,
   "metadata": {},
   "outputs": [
    {
     "data": {
      "text/plain": [
       "(1.082115196578403, 0.8528820708234764, 1.0650027325981208)"
      ]
     },
     "execution_count": 83,
     "metadata": {},
     "output_type": "execute_result"
    }
   ],
   "source": [
    "w1, w2, w3"
   ]
  },
  {
   "cell_type": "markdown",
   "metadata": {},
   "source": [
    "В финальном варианте, где использовались все три метода вместе, получилась средняя ошибка = 0.69. Веса для методов были взяты следующие: 1.082115196578403, 0.8528820708234764, 1.0650027325981208"
   ]
  },
  {
   "cell_type": "markdown",
   "metadata": {},
   "source": [
    "# Выводы"
   ]
  },
  {
   "cell_type": "markdown",
   "metadata": {},
   "source": [
    "Безусловно, достичь лучшего результата можно при помощи комбинирования всех трёх методов вместе. Наименьшую ошибку на маленькой выборке показал метод user_based. При этом самая маленькая ошибка достигается при применении всех методов вместе с весами обратно пропорциональными ошибкам на тестовой выборке. Замеченные плюсы и минусы каждого метода:\n",
    "\n",
    "**SVD**\n",
    "\n",
    "Плюсы:\n",
    "1. Быстрый поиск предсказания для user/video\n",
    "2. Гарантия наличия предсказания для любой пары user/video\n",
    "\n",
    "Минусы:\n",
    "1. Обучение дольше, чем в случае с KNN\n",
    "2. Самая большая ошибка (на маленькой выборке); на большой выборке ошибка достигла 2.5 на оптимальном значении k. Такие предсказания будут довольно неточными. Когда мы говорим о рейтинге от 1 до 5, погрешность 2.5 в среднем перевеводит фильм из категории \"не рекомендовать\" в категорию \"рекомендовать\" и наоборот, что не является удовлетворительным результатом для использоавния системы на практике\n",
    "3. Чтобы хранить матрицу предсказаний на большой выборке понадобится достаточно много памяти. Для предложенного датасета netflix prize понадобится 32ГБ (так как значения записаны в формате float32, а матрица имеет размеры 17770 (фильмов) и 480189 (пользователей) получаем выражение 17770\\*480189\\*32/(8\\*(1024\\*\\*3))~32ГБ). Это ограничение в лабораторных условиях, имеющихся в рамках проведённой работы, удалось преодалеть тем, что финальная матрица предсказаний не хранилась, а хранились только три матрицы, полученные в результате SVD, которые при введённом user_id и movie_id перемножались с соответствующей строкой первой матрицы и столбцом третьей матрицы. Другой способ -- хранить значения не во float32, а в byte (8bit), что снизит объёмы памяти в 4 раза (до 8ГБ), однако в рамках этой работы использовался python и в нём достаточно трудно оперировать типами данных (и это, скорее, выходит за рамки поставленных задач).\n",
    "\n",
    "**KNN**\n",
    "\n",
    "Абсолютно симметричные плюсы и минусы.\n",
    "\n",
    "Плюсы:\n",
    "1. Очень быстрое обучение\n",
    "2. Ошибка ниже, чем в SVD\n",
    "3. Обученная модель не требует много памяти для хранения\n",
    "\n",
    "Минусы:\n",
    "1. Поиск предсказания на полной выборке настолько долгий, что для всей тестовой выборки (20 миллионов объектов) он занял бы 15,000 часов (625 суток, почти два года). В таком виде этот метод совсем неприменим в продакшене, его нужно оптимизировать. Предложение по оптимизации: вместо KNN использовать какой-то нибудь алгоритм кластеризации для фильмов и пользователей отдельно. В этом случае уже будет иметь место бинарная таргет-метка \"рекомендовать или нет\".\n",
    "2. Не можем гарантировать, что оценка будет рекомендована.\n",
    "\n",
    "В таком виде на данных Netflix применим только первый подход, однако это не заставляет сбрасывать со счетов способ с KNN -- если выборка не слишком большая, то он сильно увеличит точность предсказаний."
   ]
  }
 ],
 "metadata": {
  "kernelspec": {
   "display_name": "Python 3",
   "language": "python",
   "name": "python3"
  },
  "language_info": {
   "codemirror_mode": {
    "name": "ipython",
    "version": 3
   },
   "file_extension": ".py",
   "mimetype": "text/x-python",
   "name": "python",
   "nbconvert_exporter": "python",
   "pygments_lexer": "ipython3",
   "version": "3.7.3"
  }
 },
 "nbformat": 4,
 "nbformat_minor": 4
}
